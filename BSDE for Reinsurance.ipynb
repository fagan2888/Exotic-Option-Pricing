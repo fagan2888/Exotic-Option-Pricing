{
 "cells": [
  {
   "cell_type": "markdown",
   "metadata": {},
   "source": [
    "### Nonlinear Problems in Finance (MATH-GA.2045-001), New York University, Fall 2019\n",
    "# Homework III\n",
    "\n",
    "### Due Date: 11:55 PM Sunday, November 10, 2019\n",
    "\n",
    "\n",
    "You should turn in the notebook at NYU Classes website.\n",
    "\n",
    "Please comment your code properly.\n",
    "\n",
    "Before you turn in the notebook, press the \"Run all cells\" button in the toolbar, and make sure all the calculation results and graphs are produced correctly in a reasonable time frame, and then save the notebook."
   ]
  },
  {
   "cell_type": "markdown",
   "metadata": {},
   "source": [
    "# Uncertain Mortality Model vs American Options"
   ]
  },
  {
   "cell_type": "markdown",
   "metadata": {},
   "source": [
    "** Re-insurance Deals**\n",
    "\n",
    "In this assignment, we study the *Uncertain Mortality Model* for the pricing of reinsurance deals. For the sake of simplicity, in this assignment we only consider one type of default: the risk of death.\n",
    "\n",
    "We consider the following reinsurance product:\n",
    "\n",
    "- At maturity, if the insurance subscriber is alive, the issuer delivers a put on the underlying $X$\n",
    "\n",
    "$$\n",
    "u^\\textrm{mat}( x) = (K_\\textrm{mat} - x)_+.\n",
    "$$\n",
    "\n",
    "- At the time of death, if it is before the maturity, the issuer delivers an exit payoff, typically another put on the underlying $X$.\n",
    "\n",
    "$$\n",
    "u^D(t, x) = (K_D - x)_+.\n",
    "$$\n",
    "\n",
    "- The subscriber pays a constant fee $α\\Delta t$ at every time step until death or the maturity or the product\n",
    "\n",
    "- The insurance sells a large number of these contracts to subscribers. We assume that the times of death of the subscribers $\\tau^D$ are independent, and identically distributed, and also independent of the underlying's stock price.\n",
    "\n",
    "- We assume that the underlying's risk neutral price dynamics is the Black-Scholes model with zero interest rate/repo/dividend yield\n",
    "\n",
    "$$\n",
    "dX_t = \\sigma X_t d W_t.\n",
    "$$\n",
    "\n",
    "** The Insurers' Approach and Risk-Neutral Pricing**\n",
    "\n",
    "This contract shows two types of risk: the times of death of the subscribers and the changes in the price of the underlying. \n",
    "\n",
    "In this case, the issuer can apply the insurer's approach to the risk of death times, i.e., the law of large numbers. The more people buy the contract, the less risk.\n",
    "\n",
    "Choosing a risk-neutral measure under which the death times $\\tau^D$ have the same distribution as under the historical probability measure is equivalent to applying the arbitrage-pricing approach to the financial risk insurer's rule on the risk of death. The price of the contract is then\n",
    "\n",
    "$$\n",
    "u(t, x) = \\mathbb{E}^\\mathbb{Q}_{t, x} \\left[u^\\textrm{mat}(X_T) \\mathbb{1}_{\\tau^D \\geq T} -\\int_t^T\\alpha\\mathbb{1}_{\\tau^D>s}ds+ u^D(\\tau^D, X_{\\tau^D}) \\mathbb{1}_{\\tau^D < T} \\right].\n",
    "$$\n",
    "\n",
    "** Deterministic Death Rate **\n",
    "\n",
    "If the death intensity is a deterministic function $\\lambda_t^D$ (i.e. $\\tau^D$ has an exponential distribution with time-dependent intensity $\\lambda_t^D$), then we have seen that $u$ is the solution to the linear PDE\n",
    "\n",
    "$$\n",
    "\\left\\{\\begin{array}{l}\n",
    "\\partial_t u + \\frac{1}{2} \\sigma^2 x^2 \\partial_x^2 u -\\alpha + \\lambda_t^D \\cdot (u^D - u) = 0,\\\\\n",
    "u(T, \\cdot) \\equiv u^\\textrm{mat}.\n",
    "\\end{array}\\right.\n",
    "$$\n",
    "\n",
    "** Uncertain Mortality Model **\n",
    "\n",
    "If the death rate is uncertain, we assume that it is adapted (i.e., it does not look into the future) and belongs to a moving corridor\n",
    "$\\left[\\underline{\\lambda}_t, \\overline{\\lambda}_t\\right]$. The most conservative way to price the contract is to compute the (financially) worst death rate process $\\lambda_t^D$ as being chosen so as to maximize the value of the contract. The resulting HJB equation is\n",
    "\n",
    "$$\n",
    "\\left\\{\\begin{array}{l}\n",
    "\\partial_t u + \\frac{1}{2} \\sigma^2 x^2 \\partial^2_x u -\\alpha + \\Lambda^D(t, u^D - u) \\cdot (u^D - u) = 0,\\\\\n",
    "u(T, \\cdot) \\equiv u^\\textrm{mat},\n",
    "\\end{array}\\right.\n",
    "$$\n",
    "where the function $\\Lambda^D$ is defined by\n",
    "$$\n",
    "\\Lambda^D (t, y) = \\left\\{\\begin{array}{l}\n",
    "    \\overline{\\lambda}^D_t \\quad \\textrm{if} \\ y \\geq 0, \\\\\n",
    "    \\underline{\\lambda}^D_t \\quad \\textrm{otherwise.}\n",
    "\\end{array}\\right.\n",
    "$$"
   ]
  },
  {
   "cell_type": "markdown",
   "metadata": {},
   "source": [
    "## Link with $1$-BSDE and Numerical Schemes\n",
    "\n",
    "From the Pardoux-Peng theorem, we know that the solution $u(0, x)$ can be represented as the solution $Y_0^x$ to the $1$-BSDE\n",
    "\n",
    "$$\n",
    "dY_t = -f(t, X_t, Y_t, Z_t) \\, dt + Z_t \\, dW_t,\n",
    "$$\n",
    "\n",
    "with the terminal condition $Y_T = u^\\textrm{mat} (X_T)$, where $X_0 = x$ and\n",
    "\n",
    "$$\n",
    "f(t, x, y, z) = -\\alpha + \\Lambda^D(t, u^D(t, x) - y) \\cdot (u^D(t, x) - y).\n",
    "$$\n",
    "\n",
    "\n",
    "## BSDE Discretization\n",
    "\n",
    "### Explicit Euler Schemes\n",
    "\n",
    "\\begin{align*}\n",
    "Y_{t_n} =& \\ u^{\\text{mat}}\\left(X_{t_n}\\right)\\\\\n",
    "Y_{t_{i - 1}} =& \\ \\mathbb{E}^\\mathbb{Q}_{i - 1} [ Y_{t_i} ] -\\alpha\\Delta t_i + \\Lambda^D \\left(t_{i - 1}, u^D(t_{i - 1} , X_{t_{i - 1}}) - \\mathbb{E}^\\mathbb{Q}_{i - 1} [ Y_{t_i} ]\\right) \\cdot \\left( u^D(t_{i - 1}, X_{t_{i - 1}}) - \\mathbb{E}^\\mathbb{Q}_{i - 1} [ Y_{t_i} ] \\right) \\Delta t_i\\\\\n",
    "=& -\\alpha\\Delta t_i + \\left( \\mathbb{E}^\\mathbb{Q}_{i - 1} [ Y_{t_i} ] \\left( 1 - \\overline{\\lambda}^D \\Delta t_i \\right) +\n",
    "u^D(t_{i - 1}, X_{t_{i - 1}}) \\overline{\\lambda}^D \\Delta t_i \\right) \\mathbb{1}_{u^D\\left(t_{i - 1}, X_{t_{i - 1}}\\right) \\geq \\mathbb{E}_{i-1}[Y_{t_i}]}\\\\\n",
    "& + \\left( \\mathbb{E}^\\mathbb{Q}_{i - 1} [ Y_{t_i} ] \\left( 1 - \\underline{\\lambda}^D \\Delta t_i \\right) +\n",
    "u^D(t_{i - 1}, X_{t_{i - 1}}) \\underline{\\lambda}^D \\Delta t_i \\right) \\mathbb{1}_{u^D\\left(t_{i - 1}, X_{t_{i - 1}}\\right) < \\mathbb{E}_{i-1}[Y_{t_i}]}.\n",
    "\\end{align*}\n",
    "\n",
    "### Implicit Euler Scheme\n",
    "\n",
    "\\begin{align*}\n",
    "Y_{t_n} =& \\ u^{\\text{mat}}\\left(X_{t_n}\\right)\\\\\n",
    "Y_{t_{i - 1}} =& \\ \\mathbb{E}^\\mathbb{Q}_{i - 1} [Y_{t_i}] -\\alpha\\Delta t_i+ \\Lambda^D \\left(t_{i - 1}, u^D(t_{i - 1}, X_{t_{i - 1}}) - Y_{t_{i - 1}}\\right) \\cdot \\left( u^D(t_{i - 1}, X_{t_{i - 1}}) - Y_{t_{i - 1}} \\right) \\Delta t_i.\n",
    "\\end{align*}\n",
    "\n",
    "The implicit scheme involves $Y_{t_{i - 1}}$ on both sides of the equation, which generally requires a root-finding routine to find $Y_{t_{i - 1}}$. However in this specific case, it can be shown that \n",
    "\n",
    "\\begin{equation}u^D(t_{i-1}, X_{t_{i-1}}) \\geq Y_{t_{i-1}}\\quad\\text{if and only if}\\quad u^D(t_{i-1}, X_{t_{i-1}}) \\geq \\mathbb{E}^{\\mathbb{Q}}_{i-1}\\left[Y_{t_i}\\right]-\\alpha\\Delta t_i.\\end{equation}\n",
    "\n",
    "Thus\n",
    "\n",
    "\\begin{split}\n",
    "Y_{t_{i - 1}} =& \\frac{1}{1 + \\overline{\\lambda}^D \\Delta t_i} \\left( \\mathbb{E}^\\mathbb{Q}_{i - 1} [ Y_{t_i} ] - \\alpha\\Delta t_i +\n",
    "u^D(t_{i - 1}, X_{t_{i - 1}}) \\overline{\\lambda}^D \\Delta t_i \\right) \\mathbb{1}_{u^D\\left(t_{i - 1}, X_{t_{i - 1}}\\right) \\geq \\mathbb{E}_{i-1}[Y_{t_i}]-\\alpha\\Delta t_i}\\\\\n",
    "& + \\frac{1}{1 + \\underline{\\lambda}^D \\Delta t_i} \\left( \\mathbb{E}^\\mathbb{Q}_{i - 1} [ Y_{t_i} ] -\\alpha\\Delta t_i +\n",
    "u^D(t_{i - 1}, X_{t_{i - 1}}) \\underline{\\lambda}^D \\Delta t_i \\right) \\mathbb{1}_{u^D(t_{i - 1}, X_{t_{i - 1}}) < \\mathbb{E}_{i-1}[Y_{t_i}]-\\alpha\\Delta t_i}.\n",
    "\\end{split}\n",
    "\n"
   ]
  },
  {
   "cell_type": "code",
   "execution_count": 1,
   "metadata": {},
   "outputs": [],
   "source": [
    "%matplotlib inline\n",
    "import matplotlib.pyplot as plt\n",
    "import numpy as np\n",
    "from scipy.stats import norm"
   ]
  },
  {
   "cell_type": "code",
   "execution_count": 2,
   "metadata": {},
   "outputs": [],
   "source": [
    "def blackscholes_mc(S=100, vol=0.2, r=0, q=0, ts=np.linspace(0, 1, 13), npaths=10):\n",
    "    \"\"\"Generate Monte-Carlo paths in Black-Scholes model.\n",
    "\n",
    "    Parameters\n",
    "    ----------\n",
    "    S: scalar\n",
    "        The spot price of the underlying security.\n",
    "    vol: scalar\n",
    "        The implied Black-Scholes volatility.\n",
    "    r: scalar\n",
    "        The annualized risk-free interest rate, continuously compounded.\n",
    "    q: scalar\n",
    "        The annualized continuous dividend yield.\n",
    "    ts: array_like\n",
    "        The time steps of the simualtion\n",
    "    npaths: int\n",
    "        the number of paths to simulate\n",
    "\n",
    "    Returns\n",
    "    -------\n",
    "    paths: ndarray\n",
    "        The Monte-Carlo paths.\n",
    "    \"\"\"\n",
    "    #np.random.seed(0)\n",
    "    nsteps = len(ts) - 1\n",
    "    ts = np.asfarray(ts)[:, np.newaxis]\n",
    "    W = np.cumsum(np.vstack((np.zeros((1, npaths), dtype=np.float),\n",
    "                             np.random.randn(nsteps, npaths) * np.sqrt(np.diff(ts, axis=0)))),\n",
    "                  axis=0)\n",
    "    paths = np.exp(-0.5*vol**2*ts + vol*W)*S*np.exp((r-q)*ts)\n",
    "    return paths\n",
    "\n",
    "def blackscholes_price(K, T, S, vol, r=0, q=0, callput='call'):\n",
    "    \"\"\"Compute the call/put option price in the Black-Scholes model\n",
    "    \n",
    "    Parameters\n",
    "    ----------\n",
    "    K: scalar or array_like\n",
    "        The strike of the option.\n",
    "    T: scalar or array_like\n",
    "        The maturity of the option, expressed in years (e.g. 0.25 for 3-month and 2 for 2 years)\n",
    "    S: scalar or array_like\n",
    "        The current price of the underlying asset.\n",
    "    vol: scalar or array_like\n",
    "        The implied Black-Scholes volatility.\n",
    "    r: scalar or array_like\n",
    "        The annualized risk-free interest rate, continuously compounded.\n",
    "    q: scalar or array_like\n",
    "        The annualized continuous dividend yield.\n",
    "    callput: str\n",
    "        Must be either 'call' or 'put'.\n",
    "\n",
    "    Returns\n",
    "    -------\n",
    "    price: scalar or array_like\n",
    "        The price of the option.\n",
    "\n",
    "    Examples\n",
    "    --------\n",
    "    >>> blackscholes_price(95, 0.25, 100, 0.2, r=0.05, callput='put')\n",
    "    1.5342604771222823\n",
    "    \"\"\"\n",
    "    F = S*np.exp((r-q)*T)\n",
    "    v = np.sqrt(vol**2*T)\n",
    "    d1 = np.log(F/K)/v + 0.5*v\n",
    "    d2 = d1 - v\n",
    "    try:\n",
    "        opttype = {'call':1, 'put':-1}[callput.lower()]\n",
    "    except:\n",
    "        raise ValueError('The value of callput must be either \"call\" or \"put\".')\n",
    "    price = opttype*(F*norm.cdf(opttype*d1)-K*norm.cdf(opttype*d2))*np.exp(-r*T)\n",
    "    return price\n",
    "\n",
    "\n",
    "def pwlinear_basis(xknots):\n",
    "    \"\"\"Basis that represent a piecewise linear function with given knots\"\"\"\n",
    "    fs = [lambda x: np.ones_like(x, dtype=np.float), lambda x: x-xknots[0]]\n",
    "    fs.extend([lambda x, a=xknots[i]: np.maximum(x-a, 0) for i in range(len(xknots))])\n",
    "    return fs\n",
    "\n",
    "\n",
    "def pwlinear_fit(xdata, ydata, xknots):\n",
    "    \"\"\"Fit a piecewise linear function with xknots to xdata and ydata\"\"\"\n",
    "    fs = pwlinear_basis(xknots)\n",
    "    A = np.vstack([f(xdata) for f in fs]).T\n",
    "    ps = np.linalg.lstsq(A, ydata, rcond=None)[0]\n",
    "    return ps, fs"
   ]
  },
  {
   "cell_type": "markdown",
   "metadata": {},
   "source": [
    "<b>Note.</b> To be more specific about the payouts of the product, we make the following assumptions:\n",
    "\n",
    "- We assume that all transactions occur at the end of the month, i.e. the insurance subsriber is expected to pay a fee of $\\alpha/12$ at the end of each month; if the subscriber dies in the middle of the month, the death payment will be made at the end of that month. \n",
    "\n",
    "- If the death occurs at the maturity, we assume that the death comes first and the death payment $u^D$ will be made."
   ]
  },
  {
   "cell_type": "markdown",
   "metadata": {},
   "source": [
    "## Assignment III\n",
    "\n",
    "<b style=\"color:darkorange\">Question 1</b> (Deterministic Mortality Rate Model)\n",
    "\n",
    "We assume that the underlying's risk neutral price dynamics is the Black-Scholes model with zero interest rate/repo/dividend yield\n",
    "\n",
    "$$dX_t = \\sigma X_t d W_t,\\quad X_0=100,\\quad\\sigma=0.3$$\n",
    "\n",
    "We shall price the reinsurance deal using two Monte Carlo methods explained below.\n",
    "\n",
    "<b>(a).</b> (Direct simulation of death times) Implement a Monte Carlo simulation by directly simulating death time $\\tau^D$ for each path to estimate the quantity\n",
    "\n",
    "$$u(t, x) = \\mathbb{E}^\\mathbb{Q}_{t, x} \\left[u^\\textrm{mat}(X_T) \\mathbb{1}_{\\tau^D \\geq T} - \\int_t^T\\alpha \\mathbb{1}_{\\tau^D> s}ds\n",
    "+ u^D(\\tau^D, X_{\\tau^D}) \\mathbb{1}_{\\tau^D < T} \\right],$$\n",
    "\n",
    "when $T=10$, $K_{\\text{mat}}=90$, $K_D=100$, $\\alpha=3$, and $\\tau^D$ has an exponential distribution of constant intensity $\\lambda^D=0.025$. Use monthly time steps.\n",
    "\n",
    "<b>(b).</b> (Averaing over death events) Using the Feynman-Kac formula, derive a stochastic representation of the linear PDE \n",
    "\n",
    "$$\\left\\{\\begin{array}{l}\\partial_t u + \\frac{1}{2}\\sigma^2 x^2 \\partial_x^2 u - \\alpha + \\lambda^D \\cdot (u^D - u) = 0\\\\\n",
    "        u(T, x) \\equiv u^\\textrm{mat}(x)\\end{array}\\right.$$\n",
    "        \n",
    "that does not involve simulating death times $\\tau^D$. Explain how one can get this stochastic representation from the one given in (a). Implement the corresponding Monte Carlo simulation to estimate $u(0,X_0)$."
   ]
  },
  {
   "cell_type": "code",
   "execution_count": 3,
   "metadata": {},
   "outputs": [],
   "source": [
    "# note that lambda is a reserved keyword in python, so we use lambd instead\n",
    "def exponential_samples(n, lambd):\n",
    "    \"\"\"Generate n samples from exponential distribution with rate lambd\"\"\"\n",
    "    return -np.log(np.random.rand(n))/lambd"
   ]
  },
  {
   "cell_type": "markdown",
   "metadata": {},
   "source": [
    "### Question 1.a"
   ]
  },
  {
   "cell_type": "code",
   "execution_count": 4,
   "metadata": {},
   "outputs": [],
   "source": [
    "def u(x, type = \"M\"):\n",
    "    \"\"\"\n",
    "    Examples:\n",
    "    >>> u(0, 'M')\n",
    "    90\n",
    "    >>> u(0, 'D')\n",
    "    100\n",
    "    >>> u(0, 'd')\n",
    "    Error type!\n",
    "    \"\"\"\n",
    "    if type == \"M\":\n",
    "        return np.maximum(K_mat - x, 0)\n",
    "    elif type == \"D\":\n",
    "        return np.maximum(K_D - x, 0)\n",
    "    else:\n",
    "        raise Exception(\"Error type!\")"
   ]
  },
  {
   "cell_type": "code",
   "execution_count": 5,
   "metadata": {},
   "outputs": [],
   "source": [
    "# parameter setting\n",
    "X0 = 100\n",
    "sig = 0.3\n",
    "\n",
    "T = 10\n",
    "K_mat = 90.0\n",
    "K_D = 100.0\n",
    "alpha = 3\n",
    "lambda_d = 0.025\n",
    "\n",
    "ts = np.linspace(0, T, int(np.round(T*12))+1)"
   ]
  },
  {
   "cell_type": "code",
   "execution_count": 34,
   "metadata": {},
   "outputs": [
    {
     "name": "stderr",
     "output_type": "stream",
     "text": [
      "c:\\users\\tiany\\appdata\\local\\programs\\python\\python37\\lib\\site-packages\\ipykernel_launcher.py:16: DeprecationWarning: elementwise comparison failed; this will raise an error in the future.\n",
      "  app.launch_new_instance()\n"
     ]
    },
    {
     "name": "stdout",
     "output_type": "stream",
     "text": [
      "1.8898669512728927\n"
     ]
    }
   ],
   "source": [
    "npaths = 50000\n",
    "paths = blackscholes_mc(X0, sig, 0, 0, ts, npaths)\n",
    "\n",
    "tau_D = exponential_samples(npaths, lambda_d)\n",
    "\n",
    "payoffs = []\n",
    "\n",
    "for i in range(len(ts)):\n",
    "    if i == len(ts) - 1:\n",
    "        payoffs.append(np.sum(u(paths[-1], \"M\") - ts[i]*alpha))\n",
    "    else:\n",
    "        ind = tau_D <= ts[i]\n",
    "        payoffs.append(np.sum(u(paths[i][ind], \"D\") - ts[i]*alpha))\n",
    "        paths = paths[:,~ind]\n",
    "        tau_D = tau_D[~ind]\n",
    "        if paths == []:\n",
    "            break\n",
    "\n",
    "print(np.sum(payoffs) / npaths)"
   ]
  },
  {
   "cell_type": "markdown",
   "metadata": {},
   "source": [
    "### Question 1.b"
   ]
  },
  {
   "cell_type": "markdown",
   "metadata": {},
   "source": [
    "Explanation: Please see the PDF attached (Page 1-3)"
   ]
  },
  {
   "cell_type": "code",
   "execution_count": 57,
   "metadata": {},
   "outputs": [],
   "source": [
    "# parameter setting\n",
    "X0 = 100\n",
    "sig = 0.3\n",
    "\n",
    "T = 10\n",
    "K_mat = 90.0\n",
    "K_D = 100.0\n",
    "alpha = 3\n",
    "lambda_d = 0.025\n",
    "\n",
    "ts = np.linspace(0, T, int(np.round(T*12))+1)"
   ]
  },
  {
   "cell_type": "code",
   "execution_count": 58,
   "metadata": {},
   "outputs": [],
   "source": [
    "def calculator_MC(step, p):\n",
    "    if (step == (len(ts) - 1)):\n",
    "        return u(paths[step], 'M')\n",
    "    else:\n",
    "        return u(paths[step + 1], 'D') * p + calculator_MC(step + 1, p) * (1 - p) - del_t*alpha"
   ]
  },
  {
   "cell_type": "code",
   "execution_count": 59,
   "metadata": {},
   "outputs": [
    {
     "data": {
      "text/plain": [
       "2.007840242644662"
      ]
     },
     "execution_count": 59,
     "metadata": {},
     "output_type": "execute_result"
    }
   ],
   "source": [
    "#calculate increment length, probability of death p, probability of no death (1-p)\n",
    "del_t = np.diff(ts)[0]\n",
    "p = 1 - np.exp(-(lambda_d * del_t))\n",
    "np.mean(calculator_MC(0, p))"
   ]
  },
  {
   "cell_type": "markdown",
   "metadata": {},
   "source": [
    "<b style=\"color:darkorange\">Question 2</b> (Uncertain Mortality Rate Model - BSDE)\n",
    "\n",
    "Assume that $\\lambda^D_t \\in \\left[\\underline{\\lambda}^D, \\overline{\\lambda}^D \\right]$, where $\\underline{\\lambda}^D=0.005$ and $\\overline{\\lambda}^D=0.04$.\n",
    "\n",
    "<b>(a).</b> Implement the implicit Euler scheme for BSDE. Use piecewise-linear fit with 10 knots to estimate the conditional expectation $\\mathbb{E}^{\\mathbb{Q}}_{i-1}\\left[Y_{t_i}\\right]$. Use the numpy function percentile to define the minimum and maximum knots. Use the percentiles 1 and 99 percent. Use 100,000 paths.\n",
    "\n",
    "<b>(b).</b> Run an independent new simuation. Use the estimates of $\\mathbb{E}^{\\mathbb{Q}}_{i-1}\\left[Y_{t_i}\\right]$ obtained in (a) to get a lower bound estimate.\n",
    "\n",
    "<b>(c).</b> How does the price compare with the price in the model with deterministic mortality rate $\\underline{\\lambda}^D$? with deterministic mortality rate $\\overline{\\lambda}^D$? Check numerically."
   ]
  },
  {
   "cell_type": "markdown",
   "metadata": {},
   "source": [
    "### Question 2.a"
   ]
  },
  {
   "cell_type": "code",
   "execution_count": 60,
   "metadata": {},
   "outputs": [],
   "source": [
    "# parameter setting\n",
    "X0 = 100\n",
    "sig = 0.3\n",
    "\n",
    "T = 10\n",
    "K_mat = 90.0\n",
    "K_D = 100.0\n",
    "alpha = 3\n",
    "\n",
    "lambda_lower_d = 0.005\n",
    "lambda_upper_d = 0.04\n",
    "\n",
    "ts = np.linspace(0, T, int(np.round(T*12))+1)"
   ]
  },
  {
   "cell_type": "code",
   "execution_count": 61,
   "metadata": {},
   "outputs": [
    {
     "data": {
      "text/plain": [
       "3.2869761798141743"
      ]
     },
     "execution_count": 61,
     "metadata": {},
     "output_type": "execute_result"
    }
   ],
   "source": [
    "npaths = 100000\n",
    "paths = blackscholes_mc(X0, sig, 0, 0, ts, npaths)\n",
    "\n",
    "V = u(paths[-1], \"M\")\n",
    "\n",
    "fits = []\n",
    "\n",
    "for i in range(len(ts)-2, -1, -1):\n",
    "    del_t = ts[i+1] - ts[i]\n",
    "    xknots = np.linspace(np.percentile(paths[i], 1), np.percentile(paths[i], 99), 10)\n",
    "    ps, fs = pwlinear_fit(paths[i], V, xknots)\n",
    "    est = sum([f(paths[i])*p for (f, p) in zip(fs, ps)])\n",
    "    booleans = u(paths[i],'D') >= (est - (alpha*del_t))\n",
    "    V_upper = (1 / ((lambda_upper_d * del_t) + 1)) * (est -(alpha * del_t) + (u(paths[i], 'D') * lambda_upper_d * del_t))\n",
    "    V_lower = (1 / ((lambda_lower_d * del_t) + 1)) * (est -(alpha * del_t) + (u(paths[i], 'D') * lambda_lower_d * del_t))\n",
    "    V = booleans * V_upper + (1 - booleans) * V_lower\n",
    "    fits.append((fs,ps))\n",
    "np.mean(V)   "
   ]
  },
  {
   "cell_type": "markdown",
   "metadata": {},
   "source": [
    "### Question 2.b"
   ]
  },
  {
   "cell_type": "code",
   "execution_count": 62,
   "metadata": {},
   "outputs": [],
   "source": [
    "# parameter setting\n",
    "X0 = 100\n",
    "sig = 0.3\n",
    "\n",
    "T = 10\n",
    "K_mat = 90.0\n",
    "K_D = 100.0\n",
    "alpha = 3\n",
    "\n",
    "lambda_lower_d = 0.005\n",
    "lambda_upper_d = 0.04\n",
    "\n",
    "ts = np.linspace(0, T, int(np.round(T*12))+1)"
   ]
  },
  {
   "cell_type": "code",
   "execution_count": 63,
   "metadata": {},
   "outputs": [
    {
     "data": {
      "text/plain": [
       "3.152694509925549"
      ]
     },
     "execution_count": 63,
     "metadata": {},
     "output_type": "execute_result"
    }
   ],
   "source": [
    "npaths = 100000\n",
    "paths = blackscholes_mc(X0, sig, 0, 0, ts, npaths)\n",
    "\n",
    "plain_fits = fits[::-1]\n",
    "\n",
    "V = u(paths[-1],'M')\n",
    "\n",
    "for i in range(len(ts)-2, -1, -1):\n",
    "    del_t = ts[i+1] - ts[i]\n",
    "    xknots = np.linspace(np.percentile(paths[i], 1), np.percentile(paths[i], 99), 10)\n",
    "    ps, fs = pwlinear_fit(paths[i], V, xknots)\n",
    "    oldest = sum([f(paths[i])*p for (f, p) in zip(plain_fits[i][0], plain_fits[i][1])])\n",
    "    booleans = u(paths[i],'D') >= (oldest - (alpha*del_t))\n",
    "    V_upper = (1 / ((lambda_upper_d * del_t) + 1)) * (V -(alpha * del_t) + (u(paths[i],'D') * lambda_upper_d * del_t))\n",
    "    V_lower = (1 / ((lambda_lower_d * del_t) + 1)) * (V -(alpha * del_t) + (u(paths[i],'D') * lambda_lower_d * del_t))\n",
    "    V = booleans * V_upper + (1 - booleans) * V_lower\n",
    "    \n",
    "np.mean(V)"
   ]
  },
  {
   "cell_type": "markdown",
   "metadata": {},
   "source": [
    "### Question 2.c"
   ]
  },
  {
   "cell_type": "code",
   "execution_count": 66,
   "metadata": {},
   "outputs": [
    {
     "name": "stdout",
     "output_type": "stream",
     "text": [
      "Price given by Lambda (0.005) is  0.3300706705833617\n",
      "Price given by Lambda (0.04) is  3.12341690462595\n"
     ]
    }
   ],
   "source": [
    "# parameter setting\n",
    "X0 = 100\n",
    "sig = 0.3\n",
    "\n",
    "T = 10\n",
    "K_mat = 90.0\n",
    "K_D = 100.0\n",
    "alpha = 3\n",
    "\n",
    "lambda_lower_d = 0.005\n",
    "lambda_upper_d = 0.04\n",
    "\n",
    "ts = np.linspace(0, T, int(np.round(T*12))+1)\n",
    "npaths = 100000\n",
    "paths = blackscholes_mc(X0, sig, 0, 0, ts, npaths)\n",
    "del_t = ts[1] - ts[0]\n",
    "def price(Lambda_d):\n",
    "    \n",
    "    p = 1 - np.exp(-(Lambda_d * del_t))\n",
    "    return np.mean(calculator_MC(0, p))\n",
    "\n",
    "print(\"Price given by Lambda (\" + str(lambda_lower_d) + \") is \", price(lambda_lower_d))\n",
    "print(\"Price given by Lambda (\" + str(lambda_upper_d) + \") is \", price(lambda_upper_d))"
   ]
  },
  {
   "cell_type": "markdown",
   "metadata": {},
   "source": [
    "Comments:\n",
    "\n",
    "By the lower bound BSDE, the reinsurance price is around 3.16 dollars (Question 2.b). The price given by the deterministic lambda 0.04 (using function from Question 1.b) is roughly 3.12 dollars. The price given by the deterministic lambda 0.005 (using function from Question 1.b) is roughly 0.33 dollars.\n",
    "\n",
    "We find that the lower bound BSDE price actually is higher than the prices given by deterministic lambda_d. We may explain this by using HJB:\n",
    "\n",
    "Using uncertain death rate actually gives the sup_bound of all the possible prices is 'selected' at a certain period. That's why, more possibly, the reinsurance can be hedged by using the higher price resulting from the HJB. That's why the lower bound BSDE price is larger than the deterministic two.\n",
    "\n",
    "Also, the price given by the deterministic lambda 0.04 is also close to the HJB price. This is because the when the death rate is high and the reinsurance deal buyer has more demands which leads to higher price."
   ]
  },
  {
   "cell_type": "markdown",
   "metadata": {},
   "source": [
    "<b style=\"color:darkorange\">Question 3</b> (Uncertain Mortality Rate Model - Longstaff and Schwartz) In addition to the BSDE simulation, the reinsurance deals can be priced by adapting the Longstaff-Schwartz algorithm. An implementation of the Longstaff-Schwartz algorithm is provided below for your convenience.\n",
    "\n",
    "The same lower and upper bounds of $\\lambda_t^D$ are used as Question 2.\n",
    "\n",
    "<b>(a).</b> In the example code, we use European put price (the strike is taken to be the average of $K_{\\text{mat}}$ and $K_D$) and constant as basis functions to estimate the sum of future payoffs. Modify the code by using the piecewise-linear fit to estimate the sum of future payoffs.\n",
    "\n",
    "<b>(b).</b> Compare the BSDE scheme with the Longstaff-Schwartz-like scheme in terms of variance. For each method run the two-step procedure (regression and indedenpent pricing) 20 times to estimate variance. Use 5000 paths for regression and 50000 for indepedent pricing.\n",
    "\n",
    "<b>(c).</b> What is approximately the value of the fee $\\alpha$ that makes the deal costless at inception?"
   ]
  },
  {
   "cell_type": "markdown",
   "metadata": {},
   "source": [
    "### Question 3.a"
   ]
  },
  {
   "cell_type": "code",
   "execution_count": 67,
   "metadata": {},
   "outputs": [
    {
     "data": {
      "text/plain": [
       "3.225678244477901"
      ]
     },
     "execution_count": 67,
     "metadata": {},
     "output_type": "execute_result"
    }
   ],
   "source": [
    "# Longstaff-Schwartz algorithm for Uncertain Mortality Rate Model\n",
    "S = 100\n",
    "vol = 0.3\n",
    "T = 10\n",
    "ts = np.linspace(0, T, int(np.round(T*12))+1)\n",
    "alpha = 3\n",
    "lambda_min = 0.005\n",
    "lambda_max = 0.04\n",
    "\n",
    "K_mat = 90.0\n",
    "K_D = 100.0\n",
    "\n",
    "def u_mat(x):\n",
    "    return np.maximum(K_mat - x, 0)\n",
    "\n",
    "def u_D(x):\n",
    "    return np.maximum(K_D - x, 0)\n",
    "\n",
    "\n",
    "# first Monte Carlo run to estimate the value function by regressions\n",
    "npaths = 5000\n",
    "paths = blackscholes_mc(S=S, vol=vol, r=0, q=0, ts=ts, npaths=npaths)\n",
    "#betas = np.zeros((len(ts), 2), dtype=np.float)\n",
    "V = u_mat(paths[-1])\n",
    "lambd = np.where(u_D(paths[-1]) >= V, lambda_max, lambda_min)\n",
    "K = 0.5*(K_mat+K_D)\n",
    "fits = []\n",
    "for i in range(len(ts)-2, -1, -1): # iterate to 0 rather than 1\n",
    "    dt = ts[i+1]-ts[i]\n",
    "    p = 1-np.exp(-lambd*dt)\n",
    "    V = p*u_D(paths[i+1]) + (1-p)*V - alpha*dt\n",
    "    #Z = blackscholes_price(K, ts[-1]-ts[i], paths[i], vol, callput='put')\n",
    "    #A = np.vstack((np.ones_like(Z), Z)).T\n",
    "    #betas[i] = np.linalg.lstsq(A, V, rcond=None)[0]\n",
    "    knots = np.linspace(np.percentile(paths[i], 1), np.percentile(paths[i], 99), 10)\n",
    "    #calculate the weights for each basis function, vector B, using least squares minimization\n",
    "    #also returns the piecewise functions \n",
    "    ps, fs = pwlinear_fit(paths[i], V, knots)\n",
    "    est = sum([f(paths[i])*p for (f, p) in zip(fs, ps)])\n",
    "    fits.append((fs,ps))\n",
    "    lambd = np.where(u_D(paths[i]) >= est, lambda_max, lambda_min)\n",
    "    \n",
    "plain_fits = fits[::-1]\n",
    "# independent simulation to obtain a lower bound\n",
    "npaths = 100000\n",
    "paths = blackscholes_mc(S=S, vol=vol, r=0, q=0, ts=ts, npaths=npaths)\n",
    "V = u_mat(paths[-1])\n",
    "lambd = np.where(u_D(paths[-1]) >= V, lambda_max, lambda_min)\n",
    "K = 0.5*(K_mat+K_D)\n",
    "for i in range(len(ts)-2, -1, -1):\n",
    "    dt = ts[i+1]-ts[i]\n",
    "    p = 1-np.exp(-lambd*dt)\n",
    "    V = p*u_D(paths[i+1]) + (1-p)*V - alpha*dt\n",
    "    #Z = blackscholes_price(K, ts[-1]-ts[i], paths[i], vol, callput='put')\n",
    "    oldest = sum([f(paths[i])*p for (f, p) in zip(plain_fits[i][0], plain_fits[i][1])])\n",
    "    lambd = np.where(u_D(paths[i]) >= oldest, lambda_max, lambda_min)\n",
    "np.mean(V)"
   ]
  },
  {
   "cell_type": "markdown",
   "metadata": {},
   "source": [
    "### Question 3.b"
   ]
  },
  {
   "cell_type": "code",
   "execution_count": 111,
   "metadata": {},
   "outputs": [],
   "source": [
    "S = 100\n",
    "vol = 0.3\n",
    "T = 10\n",
    "ts = np.linspace(0, T, int(np.round(T*12))+1)\n",
    "alpha = 3\n",
    "lambda_min = 0.005\n",
    "lambda_max = 0.04\n",
    "\n",
    "K_mat = 90.0\n",
    "K_D = 100.0\n",
    "\n",
    "def BSDE(alpha):\n",
    "    npaths = 5000\n",
    "    paths = blackscholes_mc(S=S, vol=vol, r=0, q=0, ts=ts, npaths=npaths)\n",
    "\n",
    "    V = u(paths[-1], \"M\")\n",
    "\n",
    "    #matrix to store regression informations\n",
    "    fits = []\n",
    "\n",
    "    for i in range(len(ts)-2, -1, -1):\n",
    "        del_t = ts[i+1] - ts[i]\n",
    "        xknots = np.linspace(np.percentile(paths[i], 1), np.percentile(paths[i], 99), 10)\n",
    "        ps, fs = pwlinear_fit(paths[i], V, xknots)\n",
    "\n",
    "        est = sum([f(paths[i])*p for (f, p) in zip(fs, ps)])\n",
    "        booleans = u(paths[i],'D') >= (est - (alpha*del_t))\n",
    "        V_upper = (1 / ((lambda_upper_d * del_t) + 1)) * (est -(alpha * del_t) + (u(paths[i], 'D') * lambda_upper_d * del_t))\n",
    "        V_lower = (1 / ((lambda_lower_d * del_t) + 1)) * (est -(alpha * del_t) + (u(paths[i], 'D') * lambda_lower_d * del_t))\n",
    "        V = booleans * V_upper + (1 - booleans) * V_lower\n",
    "        fits.append((fs,ps))\n",
    "    npaths = 50000\n",
    "    paths = blackscholes_mc(S=S, vol=vol, r=0, q=0, ts=ts, npaths=npaths)\n",
    "\n",
    "    plain_fits = fits[::-1]\n",
    "\n",
    "    V = u(paths[-1],'M')\n",
    "\n",
    "    for i in range(len(ts)-2, -1, -1):\n",
    "        del_t = ts[i+1] - ts[i]\n",
    "        xknots = np.linspace(np.percentile(paths[i], 1), np.percentile(paths[i], 99), 10)\n",
    "        ps, fs = pwlinear_fit(paths[i], V, xknots)\n",
    "        oldest = sum([f(paths[i])*p for (f, p) in zip(plain_fits[i][0], plain_fits[i][1])])\n",
    "        booleans = u(paths[i],'D') >= (oldest - (alpha*del_t))\n",
    "        V_upper = (1 / ((lambda_upper_d * del_t) + 1)) * (V -(alpha * del_t) + (u(paths[i],'D') * lambda_upper_d * del_t))\n",
    "        V_lower = (1 / ((lambda_lower_d * del_t) + 1)) * (V -(alpha * del_t) + (u(paths[i],'D') * lambda_lower_d * del_t))\n",
    "        V = booleans * V_upper + (1 - booleans) * V_lower\n",
    "    return np.mean(V) \n",
    "\n",
    "def Longstaff_Schwartz(alpha):\n",
    "    # first Monte Carlo run to estimate the value function by regressions\n",
    "    npaths = 5000\n",
    "    paths = blackscholes_mc(S=S, vol=vol, r=0, q=0, ts=ts, npaths=npaths)\n",
    "    #betas = np.zeros((len(ts), 2), dtype=np.float)\n",
    "    V = u_mat(paths[-1])\n",
    "    lambd = np.where(u_D(paths[-1]) >= V, lambda_max, lambda_min)\n",
    "    K = 0.5*(K_mat+K_D)\n",
    "    fits = []\n",
    "    for i in range(len(ts)-2, -1, -1): # iterate to 0 rather than 1\n",
    "        dt = ts[i+1]-ts[i]\n",
    "        p = 1-np.exp(-lambd*dt)\n",
    "        V = p*u_D(paths[i+1]) + (1-p)*V - alpha*dt\n",
    "        #Z = blackscholes_price(K, ts[-1]-ts[i], paths[i], vol, callput='put')\n",
    "        #A = np.vstack((np.ones_like(Z), Z)).T\n",
    "        #betas[i] = np.linalg.lstsq(A, V, rcond=None)[0]\n",
    "        knots = np.linspace(np.percentile(paths[i], 1), np.percentile(paths[i], 99), 10)\n",
    "        #calculate the weights for each basis function, vector B, using least squares minimization\n",
    "        #also returns the piecewise functions \n",
    "        ps, fs = pwlinear_fit(paths[i], V, knots)\n",
    "        est = sum([f(paths[i])*p for (f, p) in zip(fs, ps)])\n",
    "        fits.append((fs,ps))\n",
    "        lambd = np.where(u_D(paths[i]) >= est, lambda_max, lambda_min)\n",
    "\n",
    "    plain_fits = fits[::-1]\n",
    "    # independent simulation to obtain a lower bound\n",
    "    npaths = 50000\n",
    "    paths = blackscholes_mc(S=S, vol=vol, r=0, q=0, ts=ts, npaths=npaths)\n",
    "    V = u_mat(paths[-1])\n",
    "    lambd = np.where(u_D(paths[-1]) >= V, lambda_max, lambda_min)\n",
    "    K = 0.5*(K_mat+K_D)\n",
    "    for i in range(len(ts)-2, -1, -1):\n",
    "        dt = ts[i+1]-ts[i]\n",
    "        p = 1-np.exp(-lambd*dt)\n",
    "        V = p*u_D(paths[i+1]) + (1-p)*V - alpha*dt\n",
    "        #Z = blackscholes_price(K, ts[-1]-ts[i], paths[i], vol, callput='put')\n",
    "        oldest = sum([f(paths[i])*p for (f, p) in zip(plain_fits[i][0], plain_fits[i][1])])\n",
    "        lambd = np.where(u_D(paths[i]) >= oldest, lambda_max, lambda_min)\n",
    "    return np.mean(V)"
   ]
  },
  {
   "cell_type": "code",
   "execution_count": 115,
   "metadata": {},
   "outputs": [
    {
     "name": "stdout",
     "output_type": "stream",
     "text": [
      "Population Variance of the BSDE (biased) = 0.09975756994158426\n",
      "Population Variance of the Longstaff_Schwartz (biased) = 0.01597418263017781\n",
      "\n",
      "\n",
      "Sample Variance of the BSDE (Unbiased) = 0.10500796835956237\n",
      "Sample Variance of the Longstaff_Schwartz (Unbiased) = 0.016814929084397696\n",
      "\n",
      "\n",
      "Mean of the BSDE = 3.140112102923218\n",
      "Mean of Longstaff_Schwartz = 3.2164625880867277\n"
     ]
    }
   ],
   "source": [
    "BSDE_logs = [BSDE(3) for i in range(20)]\n",
    "Longstaff_Schwartz_logs = [Longstaff_Schwartz(3) for i in range(20)]\n",
    "\n",
    "print(\"Population Variance of the BSDE (biased) = {}\".format(np.var(BSDE_logs, ddof=0)))\n",
    "print(\"Population Variance of the Longstaff_Schwartz (biased) = {}\".format(np.var(Longstaff_Schwartz_logs, ddof=0)))\n",
    "print(\"\\n\")\n",
    "\n",
    "print(\"Sample Variance of the BSDE (Unbiased) = {}\".format(np.var(BSDE_logs, ddof=1)))\n",
    "print(\"Sample Variance of the Longstaff_Schwartz (Unbiased) = {}\".format(np.var(Longstaff_Schwartz_logs, ddof=1)))\n",
    "print(\"\\n\")\n",
    "\n",
    "print(\"Mean of the BSDE = {}\".format(np.mean(BSDE_logs)))\n",
    "print(\"Mean of Longstaff_Schwartz = {}\".format(np.mean(Longstaff_Schwartz_logs)))"
   ]
  },
  {
   "cell_type": "code",
   "execution_count": 78,
   "metadata": {},
   "outputs": [],
   "source": [
    "def find_root(func, l, h, tolerance = 1e-3, max_iter = 100):\n",
    "    \"\"\"\n",
    "    Using binary search to get the root of the algorithm \"func\"\n",
    "    \"\"\"\n",
    "    def stable_result(func, alpha):\n",
    "        return np.mean([func(alpha) for i in range(50)])\n",
    "    iter_ = 0\n",
    "    while True:\n",
    "        print(\"Iteration epoch: \", iter_)\n",
    "        print(\"The lower bound of the searching area is \", l)\n",
    "        print(\"The upper bound of the searching area is \", h)\n",
    "        print(\"\\n\")\n",
    "        m = (l + h)/2\n",
    "        if stable_result(func, m) < 0:\n",
    "            h = m\n",
    "        else:\n",
    "            l = m\n",
    "        iter_ += 1\n",
    "        if np.abs(h-l) < tolerance:\n",
    "            break\n",
    "        if iter_ == max_iter:\n",
    "            print(\"The root is not found in \" + str(iter_) + \" iterations\")\n",
    "    return (l + m)/2"
   ]
  },
  {
   "cell_type": "code",
   "execution_count": 79,
   "metadata": {},
   "outputs": [
    {
     "name": "stdout",
     "output_type": "stream",
     "text": [
      "Iteration epoch:  0\n",
      "The lower bound of the searching area is  3.3\n",
      "The upper bound of the searching area is  3.4\n",
      "\n",
      "\n",
      "Iteration epoch:  1\n",
      "The lower bound of the searching area is  3.3499999999999996\n",
      "The upper bound of the searching area is  3.4\n",
      "\n",
      "\n",
      "Iteration epoch:  2\n",
      "The lower bound of the searching area is  3.375\n",
      "The upper bound of the searching area is  3.4\n",
      "\n",
      "\n",
      "Iteration epoch:  3\n",
      "The lower bound of the searching area is  3.375\n",
      "The upper bound of the searching area is  3.3875\n",
      "\n",
      "\n",
      "Iteration epoch:  4\n",
      "The lower bound of the searching area is  3.375\n",
      "The upper bound of the searching area is  3.38125\n",
      "\n",
      "\n",
      "Iteration epoch:  5\n",
      "The lower bound of the searching area is  3.378125\n",
      "The upper bound of the searching area is  3.38125\n",
      "\n",
      "\n",
      "Iteration epoch:  6\n",
      "The lower bound of the searching area is  3.3796875\n",
      "The upper bound of the searching area is  3.38125\n",
      "\n",
      "\n",
      "The value of the 𝛼 found by the Longstaff Schwartz algorithm that makes the deal costless at inception:  3.3804687500000004\n",
      "\n",
      "\n",
      "Iteration epoch:  0\n",
      "The lower bound of the searching area is  3.3\n",
      "The upper bound of the searching area is  3.4\n",
      "\n",
      "\n",
      "Iteration epoch:  1\n",
      "The lower bound of the searching area is  3.3499999999999996\n",
      "The upper bound of the searching area is  3.4\n",
      "\n",
      "\n",
      "Iteration epoch:  2\n",
      "The lower bound of the searching area is  3.375\n",
      "The upper bound of the searching area is  3.4\n",
      "\n",
      "\n",
      "Iteration epoch:  3\n",
      "The lower bound of the searching area is  3.375\n",
      "The upper bound of the searching area is  3.3875\n",
      "\n",
      "\n",
      "Iteration epoch:  4\n",
      "The lower bound of the searching area is  3.38125\n",
      "The upper bound of the searching area is  3.3875\n",
      "\n",
      "\n",
      "Iteration epoch:  5\n",
      "The lower bound of the searching area is  3.38125\n",
      "The upper bound of the searching area is  3.3843750000000004\n",
      "\n",
      "\n",
      "Iteration epoch:  6\n",
      "The lower bound of the searching area is  3.38125\n",
      "The upper bound of the searching area is  3.3828125\n",
      "\n",
      "\n",
      "The value of the 𝛼 found by BSDE that makes the deal costless at inception:  3.381640625\n"
     ]
    }
   ],
   "source": [
    "print(\"The value of the 𝛼 found by the Longstaff Schwartz algorithm that makes the deal costless at inception: \", find_root(Longstaff_Schwartz,3.3,3.4))\n",
    "print(\"\\n\")\n",
    "print(\"The value of the 𝛼 found by BSDE that makes the deal costless at inception: \", find_root(BSDE,3.3,3.4))"
   ]
  },
  {
   "cell_type": "markdown",
   "metadata": {
    "collapsed": true
   },
   "source": [
    "<b style=\"color:darkorange\">Question 4.</b> Set $K_D=0$, and all the other parameters remain the smae, in particualr $\\alpha=3$. Then the default event is equivalent to lapse (with no mortality payoff). It has been observed that insurance subscribers do not lapse optimally, which explains the use of the uncertain lapse model with minimum and maximum lapse rates $\\underline{\\lambda}$, $\\overline{\\lambda}$. \n",
    "\n",
    "<b>(a).</b> If insurance subscribers were to lapse optimally, i.e., exercise optimally their option to lapse, how would you price the contract?\n",
    "\n",
    "<b>(b).</b> Explain how you can get this price (from optimal exercise) in the uncertain lapse model. Reuse the code provided in Question 3 to show your result (you may have to change some parameters in the code).\n",
    "\n",
    "<b>(c).</b> Implement Longstaff-Schwartz algorithm to price the American option with payoff $u^D=0$ (Always perform a second indepedent run to get a clean lower bound price). Compare the price from uncertain lapse model in part (b) with the American price."
   ]
  },
  {
   "cell_type": "markdown",
   "metadata": {
    "collapsed": true
   },
   "source": [
    "### Question 4.a\n",
    "Because $K_D = 0$, $u^D = max\\{K_D - 0, 0\\}\\equiv 0 $\n",
    "\n",
    "Actually, the insurance were to lapse optimally when $0 = u^D > u$ because under this situation to lapse is better than a to continue on with the insurance. When $0 = u^D \\leq u$, there is no lapse, which indicates $\\lambda^D_s = 0$.\n",
    "\n",
    "To put it mathematically, under this situation, we have:\n",
    "$$\\left\\{\\begin{array}{l}\\partial_t u + \\frac{1}{2}\\sigma^2 x^2 \\partial_x^2 u - \\alpha = 0\\\\\n",
    "        u(T, x) = u^\\textrm{mat}(x)\\end{array}\\right.$$\n",
    "        \n",
    "Put it into variational inequality form, we have:\n",
    "$$max\\{\\partial_t u + \\frac{1}{2}\\sigma^2 x^2 \\partial_x^2 u - \\alpha, u^D - u\\} = 0$$\n",
    "\n",
    "We can just solve this variational inequality by numerical schemes (like what we do to solve American Option numerically).\n",
    "\n",
    "From this intuition, we can also know the 4.b should almost share the same result of 4.c because $\\lambda^D$ ranges from 0 to $\\infty$ which means 4.b shares the same exercise oppotunity to the American Option discribed in 4.c."
   ]
  },
  {
   "cell_type": "markdown",
   "metadata": {},
   "source": [
    "### Question 4.b\n",
    "Because the insurance were to lapse optimally only when $0 = u^D > u$ because under this situation to lapse is better than a to continue on with the insurance. We can just price reinsurance use the Longstaff_Schwartz(alpha) function that I wrote in Question 3.b. We can use $\\bar{\\lambda}^D = \\infty$ to represemt the lapse which means the first arriving time in infinity. Also, as I said in Question 4.a, when $0 = u^D \\leq u$, there is no lapse, which indicates $\\underline{\\lambda}^D = 0$. "
   ]
  },
  {
   "cell_type": "code",
   "execution_count": 107,
   "metadata": {},
   "outputs": [
    {
     "data": {
      "text/plain": [
       "3.6302072525461004"
      ]
     },
     "execution_count": 107,
     "metadata": {},
     "output_type": "execute_result"
    }
   ],
   "source": [
    "from math import inf as INF\n",
    "S = 100\n",
    "vol = 0.3\n",
    "T = 10\n",
    "ts = np.linspace(0, T, int(np.round(T*12))+1)\n",
    "alpha = 3\n",
    "lambda_min = 0\n",
    "lambda_max = INF\n",
    "\n",
    "K_mat = 90.0\n",
    "K_D = 0\n",
    "\n",
    "Longstaff_Schwartz(alpha)"
   ]
  },
  {
   "cell_type": "markdown",
   "metadata": {},
   "source": [
    "### Question 4.c"
   ]
  },
  {
   "cell_type": "code",
   "execution_count": 108,
   "metadata": {},
   "outputs": [],
   "source": [
    "# parameter setting\n",
    "X0 = 100\n",
    "sig = 0.3\n",
    "\n",
    "T = 10\n",
    "K_mat = 90.0\n",
    "alpha = 3\n",
    "\n",
    "ts = np.linspace(0, T, int(np.round(T*12))+1)\n",
    "del_t = ts[1] - ts[0]"
   ]
  },
  {
   "cell_type": "code",
   "execution_count": 109,
   "metadata": {},
   "outputs": [
    {
     "data": {
      "text/plain": [
       "3.6584342089487585"
      ]
     },
     "execution_count": 109,
     "metadata": {},
     "output_type": "execute_result"
    }
   ],
   "source": [
    "# Longstaff_Schwartz for American Option pricing\n",
    "npaths = 10000\n",
    "paths = blackscholes_mc(X0, sig, 0, 0, ts, npaths)\n",
    "\n",
    "fits = []\n",
    "\n",
    "payoff = u(paths[-1], \"M\")\n",
    "for i in range(len(ts)-2, -1, -1): # to from len(ts)-2 to 0\n",
    "    payoff = payoff - (alpha*del_t)\n",
    "    xknots = np.linspace(np.percentile(paths[i], 1), np.percentile(paths[i], 99), 10)\n",
    "    ps, fs = pwlinear_fit(paths[i], payoff, xknots)\n",
    "    if i < (len(ts)-2):\n",
    "        contval = sum([f(paths[i])*p for (f, p) in zip(fs, ps)]) \n",
    "    else:\n",
    "        contval = payoff\n",
    "    exerval = (np.ones_like(paths[1,:], dtype=np.float) * 0.0) - (alpha * del_t)\n",
    "    ind = exerval >= contval\n",
    "    payoff[ind] = exerval[ind]\n",
    "    fits.append((fs,ps))\n",
    "\n",
    "plain_fits = fits[::-1]  \n",
    "    \n",
    "# second time MC\n",
    "npaths = 100000\n",
    "paths = blackscholes_mc(S=S, vol=vol, r=0, q=0, ts=ts, npaths=npaths)\n",
    "\n",
    "payoff = u(paths[-1], \"M\")\n",
    "for i in range(len(ts)-2, -1, -1): # to from len(ts)-2 to 0\n",
    "    payoff = payoff - (alpha*del_t)\n",
    "    if i < (len(ts)-2):\n",
    "        contval = sum([f(paths[i])*p for (f, p) in zip(plain_fits[i][0], plain_fits[i][1])])\n",
    "    else:\n",
    "        contval = payoff\n",
    "    exerval = (np.ones_like(paths[1,:], dtype=np.float) * 0.0) - (alpha * del_t)\n",
    "    ind = exerval >= contval\n",
    "    payoff[ind] = exerval[ind]\n",
    "\n",
    "np.mean(payoff)    "
   ]
  },
  {
   "cell_type": "markdown",
   "metadata": {},
   "source": [
    "The result price of 4.b (using a Longstaff_Schwartz with lambda from 0 to $\\infty$) is roughly 3.63 dollars.\n",
    "The result low biased price in 4.c (Longstaff_Schwartz with a second indepedent run) is roughly 3.66 dollars.\n",
    "\n",
    "As I mentioned in 4.a, intuitively speaking, the 4.b should almost share the same result of 4.c because $\\lambda^D$ ranges from 0 to $\\infty$ which means 4.b shares the same exercise oppotunity to the American Option discribed in 4.c.\n",
    "\n",
    "However, there are differences between the algorithms in 4.b and 4.c. \n",
    "\n",
    "First, in 4.b, the lambda of $t_{i-1}$ is based on the information of $t_{i}$ which means the algorithm is actually using some further information whereas the algorithm in 4.c doesn't have the problem it always calculate the future infomation based on the past information (using regression).\n",
    "\n",
    "Second, if people don't use a large $\\bar{\\lambda}^D$, there will be some errors here."
   ]
  },
  {
   "cell_type": "code",
   "execution_count": null,
   "metadata": {},
   "outputs": [],
   "source": []
  }
 ],
 "metadata": {
  "anaconda-cloud": {},
  "kernelspec": {
   "display_name": "Python 3",
   "language": "python",
   "name": "python3"
  },
  "language_info": {
   "codemirror_mode": {
    "name": "ipython",
    "version": 3
   },
   "file_extension": ".py",
   "mimetype": "text/x-python",
   "name": "python",
   "nbconvert_exporter": "python",
   "pygments_lexer": "ipython3",
   "version": "3.7.3"
  },
  "name": "Uncertain Mortality.ipynb"
 },
 "nbformat": 4,
 "nbformat_minor": 1
}
