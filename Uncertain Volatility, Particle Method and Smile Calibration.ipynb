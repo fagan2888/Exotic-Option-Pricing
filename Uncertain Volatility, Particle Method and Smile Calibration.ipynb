{
 "cells": [
  {
   "cell_type": "markdown",
   "metadata": {},
   "source": [
    "### Nonlinear Problems in Finance (MATH-GA.2045-001), New York University, Fall 2019\n",
    "# Homework IV\n",
    "\n",
    "### Due Date: 11:55 PM Tuesday, December 3, 2019\n",
    "\n",
    "\n",
    "You should turn in the notebook at NYU Classes website.\n",
    "\n",
    "Please comment your code properly.\n",
    "\n",
    "Before you turn in the notebook, press the \"Run all cells\" button in the toolbar, and make sure all the calculation results and graphs are produced correctly in a reasonable time frame, and then save the notebook."
   ]
  },
  {
   "cell_type": "markdown",
   "metadata": {},
   "source": [
    "<h3 style=\"color:deepskyblue\">Uncertain Volatility Model 1D</h3>\n",
    "\n",
    "The price of a vanilla payoff $g(X_T)$ on a single asset $X_t$ in the uncertain volatility model satisfies the\n",
    "one dimensional Black-Scholes-Barenblatt (BSB) PDE\n",
    "\\begin{align*}\n",
    "\\partial_tu(t,x)+\\frac{1}{2}x^2\\partial_x^2u(t,x)\\Sigma\\left(\\partial_x^2u(t,x)\\right)^2&=0\\\\\n",
    "u(T,x)&=g(x)\n",
    "\\end{align*}\n",
    "where\n",
    "\\begin{equation*}\n",
    "\\Sigma(\\Gamma)=\\left\\{\\begin{array}\\,\n",
    "\\underline{\\sigma} & \\text{ if }\\Gamma<0\\\\ \\overline{\\sigma} & \\text{ if }\\Gamma\\geq 0\\end{array}\\right.\n",
    "\\end{equation*}\n",
    "For the sake of simplicity, we assume zero interest rate and zero dividend and repo.\n",
    "\n",
    "The BSB PDE is a fully nonlinear second order parabolic PDE which has a stochastic representation by second-oder BSDE. We are free to choose the diffusion for $X$; we pick a lognormal dynamics with some constant volatility $\\hat\\sigma$,\n",
    "\n",
    "$$dX_t=\\hat{\\sigma} X_tdW_t$$\n",
    "\n",
    "Two numerical schemes to solve 2-BSDEs are presented below. We first divide $(0, T)$ into $n$ subintervals $(t_{i-1}, t_i)$, $1\\leq i\\leq n$ and set $\\Delta t_i=t_i-t_{i-1}$ and $\\Delta W_{t_i} = W_{t_i} - W_{t_{i-1}}$.\n",
    "\n",
    "<b>Scheme 1</b>\n",
    "\\begin{align*}\n",
    "Y_{t_n}&=g(X_{t_n})\\\\\n",
    "Z_{t_n}&=g'\\left(X_{t_n}\\right)\\\\\n",
    "Y_{t_{i-1}}&=\\mathbb{E}_{i-1}\\left[Y_{t_i}\\right]+\\frac{1}{2}\\Gamma_{t_{i-1}}X_{t_{i-1}}^2\\left(\\Sigma\\left(\\Gamma_{t_{i-1}}\\right)^2-\\hat{\\sigma}^2\\right)\\Delta t_i\\\\\n",
    "Z_{t_{i-1}}&=\\frac{1}{\\Delta t_i\\hat{\\sigma} X_{t_{i-1}}}\\mathbb{E}_{i-1}\\left[Y_{t_i}\\Delta W_{t_i}\\right]\\\\\n",
    "\\Gamma_{t_{i-1}}&=\\frac{1}{\\Delta t_i\\hat{\\sigma} X_{t_{i-1}}}\\mathbb{E}_{i-1}\\left[Z_{t_i}\\Delta W_{t_i}\\right]\n",
    "\\end{align*}\n",
    "\n",
    "In the second scheme, we introduce explicitly the Malliavin weight for the log-normal diffusion with volatility $\\hat{\\sigma}$, so that $\\Gamma$ can be estimated directly from $Y$ without computing $Z$ in the intermediate step. In particular, there is no need to compute the final condition $Z_{t_n}=g'\\left(X_{t_n}\\right)$. This could be useful to handle non-smooth payoffs.\n",
    "\n",
    "<b>Scheme 2</b>\n",
    "\\begin{align*}\n",
    "Y_{t_n}&=g(X_{t_n})\\\\\n",
    "Y_{t_{i-1}}&=\\mathbb{E}_{i-1}\\left[Y_{t_i}\\right]+\\frac{1}{2}\\Gamma_{t_{i-1}}X_{t_{i-1}}^2\\left(\\Sigma\\left(\\Gamma_{t_{i-1}}\\right)^2-\\hat{\\sigma}^2\\right)\\Delta t_i\\\\\n",
    "\\Gamma_{t_{i-1}}&=\\frac{1}{\\left(\\Delta t_i\\hat{\\sigma} X_{t_{i-1}}\\right)^2}\\mathbb{E}_{i-1}\\left[Y_{t_i}\\left(\\Delta W_{t_i}^2-\\Delta t_i\\left(1+\\hat{\\sigma}\\Delta W_{t_i}\\right)\\right)\\right]\n",
    "\\end{align*}"
   ]
  },
  {
   "cell_type": "code",
   "execution_count": 1,
   "metadata": {
    "ExecuteTime": {
     "end_time": "2019-12-06T03:01:10.667455Z",
     "start_time": "2019-12-06T03:01:09.865926Z"
    }
   },
   "outputs": [],
   "source": [
    "%matplotlib inline\n",
    "import matplotlib.pyplot as plt\n",
    "import numpy as np\n",
    "from scipy.stats import norm\n",
    "import pandas as pd"
   ]
  },
  {
   "cell_type": "markdown",
   "metadata": {},
   "source": [
    "<b style=\"color:darkorange\">Question 1.</b> Consider pricing the call spread $\\frac{100}{K_2-K_1}\\left(\\left(X_T-K_1\\right)^+-\\left(X_T-K_2\\right)^+\\right)$ in the uncertain volatility model, where\n",
    "\n",
    "\\begin{equation*}\n",
    "\\underline{\\sigma}=0.1,\\quad\\overline{\\sigma}=0.2,\\quad X_0=100,\\quad T=1, \\quad K_1 = 90, \\quad K_2 = 110\n",
    "\\end{equation*}\n",
    "\n",
    "For your reference, the true price (from PDE) is $56.0$.\n",
    "\n",
    "<b>(a).</b> Implement Scheme 1 with 12 time steps $(\\Delta t_1=1/12)$ and 5000 paths. After you obtain estimates of $x\\mapsto\\Gamma\\left(t_i, x\\right)$ at each discretization time $t_i$, re-simulate a new set of independent paths following the process $dX_t = \\Sigma(\\Gamma(t,X_t))X_tdW_t$ to price the call spread, using more time steps (say, 400 $(\\Delta t_2=1/400)$), and more paths (say, 50,000).\n",
    "\n",
    "<ul>\n",
    "<li> Experiment with different values of $\\hat\\sigma$, and smaller $\\Delta t_1$. Comment on the results.\n",
    "<li> Describe the region where the gamma is positive (resp. negative).\n",
    "</ul>"
   ]
  },
  {
   "cell_type": "markdown",
   "metadata": {},
   "source": [
    "<b>(b).</b> Implement Scheme 2 outlined above to price the call spread. As in part (a), after you obtain estimates of $x\\mapsto\\Gamma\\left(t_i, x\\right)$ at each discretization time $t_i$, re-simulate a new set of independent paths following the process $dX_t = \\Sigma(\\Gamma(t,X_t))X_tdW_t$ to price the call spread, using more time steps. Compare the results of the two schemes.\n"
   ]
  },
  {
   "cell_type": "markdown",
   "metadata": {},
   "source": [
    "<b>(c).</b> In schemes 1 and 2, the estimations of the conditional expectations for $Z_{t_{i-1}}$ and $\\Gamma_{t_{i-1}}$ may suffer large variances when $\\Delta t_i$ is small. Control variates can be used to reduce the variance. For example, Scheme 2 can be modified as follows\n",
    "\n",
    "<b>Scheme 2a</b>\n",
    "\\begin{align*}\n",
    "Y_{t_n}&=g(X_{t_n})\\\\\n",
    "Y_{t_{i-1}}&=\\mathbb{E}_{i-1}\\left[Y_{t_i}\\right]+\\frac{1}{2}\\Gamma_{t_{i-1}}X_{t_{i-1}}^2\\left(\\Sigma\\left(\\Gamma_{t_{i-1}}\\right)^2-\\hat{\\sigma}^2\\right)\\Delta t_i\\\\\n",
    "\\Gamma_{t_{i-1}}&=\\frac{1}{\\left(\\Delta t_i\\hat{\\sigma} X_{t_{i-1}}\\right)^2}\\mathbb{E}_{i-1}\\left[\\left(Y_{t_i}-\\mathbb{E}_{i-1}\\left[Y_{t_i}\\right]\\right)\\left(\\Delta W_{t_i}^2-\\Delta t_i\\left(1+\\hat{\\sigma}\\Delta W_{t_i}\\right)\\right)\\right]\n",
    "\\end{align*}\n",
    "Note that $Y_{t_i}$ on the right side of the last equation has been replaced by $Y_{t_{i}}-\\mathbb{E}_{i-1}\\left[Y_{t_i}\\right]$.\n",
    "\n",
    "Explain why this replacement does not change the left hand side. Implement Scheme 2a. Do you observe variance reduction?\n",
    "\n",
    "For a justification of Scheme 2a, see the forthcoming written homework."
   ]
  },
  {
   "cell_type": "markdown",
   "metadata": {},
   "source": [
    "### Question 1.a"
   ]
  },
  {
   "cell_type": "code",
   "execution_count": 2,
   "metadata": {
    "ExecuteTime": {
     "end_time": "2019-12-06T03:01:10.673302Z",
     "start_time": "2019-12-06T03:01:10.669315Z"
    }
   },
   "outputs": [],
   "source": [
    "# parameter settings\n",
    "sigL = 0.1\n",
    "sigH = 0.2\n",
    "X0 = 100\n",
    "T = 1\n",
    "K1 = 90\n",
    "K2 = 110\n",
    "nT1 = 12\n",
    "nT2 = 400\n",
    "ts_arr = np.array([np.linspace(0, T, nT1 + 1), np.linspace(0, T, nT2 + 1)])\n",
    "npaths_arr = np.array([5000, 50000])"
   ]
  },
  {
   "cell_type": "markdown",
   "metadata": {},
   "source": [
    "$g(x) = \\frac{100}{K_2-K_1}\\left(\\left(X_T-K_1\\right)^+-\\left(X_T-K_2\\right)^+\\right)$\n",
    "\n",
    "Take derivative, we have:\n",
    "$g'(x) = \\frac{100}{K_2-K_1}\\left(I_{x>K_1}-I_{x>K_2}\\right) = \\frac{100}{K_2-K_1}I_{K_2>x>K_1}$"
   ]
  },
  {
   "cell_type": "code",
   "execution_count": 3,
   "metadata": {
    "ExecuteTime": {
     "end_time": "2019-12-06T03:01:10.687236Z",
     "start_time": "2019-12-06T03:01:10.675267Z"
    }
   },
   "outputs": [],
   "source": [
    "def blackscholes_mc(S=100, vol=0.2, r=0, q=0, ts=np.linspace(0, 1, 13), npaths=10):\n",
    "    # This function is copied from previous homeworks given function\n",
    "    \"\"\"Generate Monte-Carlo paths in Black-Scholes model.\n",
    "\n",
    "    Parameters\n",
    "    ----------\n",
    "    S: scalar\n",
    "        The spot price of the underlying security.\n",
    "    vol: scalar\n",
    "        The implied Black-Scholes volatility.\n",
    "    r: scalar\n",
    "        The annualized risk-free interest rate, continuously compounded.\n",
    "    q: scalar\n",
    "        The annualized continuous dividend yield.\n",
    "    ts: array_like\n",
    "        The time steps of the simualtion\n",
    "    npaths: int\n",
    "        the number of paths to simulate\n",
    "\n",
    "    Returns\n",
    "    -------\n",
    "    paths: ndarray\n",
    "        The Monte-Carlo paths.\n",
    "    \"\"\"\n",
    "    #np.random.seed(0)\n",
    "    nsteps = len(ts) - 1\n",
    "    ts = np.asfarray(ts)[:, np.newaxis]\n",
    "    dW = np.vstack((np.zeros((1, npaths), dtype=np.float),\n",
    "                             np.random.randn(nsteps, npaths) * np.sqrt(np.diff(ts, axis=0))))\n",
    "        \n",
    "    W = np.cumsum(dW, axis=0)\n",
    "    paths = np.exp(-0.5*vol**2*ts + vol*W)*S*np.exp((r-q)*ts)\n",
    "    return paths, dW\n",
    "\n",
    "def pwlinear_basis(xknots):\n",
    "    # This function is copied from previous homeworks given function\n",
    "    \"\"\"Basis that represent a piecewise linear function with given knots\"\"\"\n",
    "    fs = [lambda x: np.ones_like(x, dtype=np.float), lambda x: x-xknots[0]]\n",
    "    fs.extend([lambda x, a=xknots[i]: np.maximum(x-a, 0) for i in range(len(xknots))])\n",
    "    return fs\n",
    "\n",
    "def pwlinear_fit(xdata, ydata, xknots):\n",
    "    # This function is copied from previous homeworks given function\n",
    "    \"\"\"Fit a piecewise linear function with xknots to xdata and ydata\"\"\"\n",
    "    fs = pwlinear_basis(xknots)\n",
    "    A = np.vstack([f(xdata) for f in fs]).T\n",
    "    ps = np.linalg.lstsq(A, ydata, rcond=None)[0]\n",
    "    return ps, fs\n",
    "\n",
    "def g(x, X0 = X0, K1 = K1, K2 = K2):\n",
    "    return X0 * (np.maximum(x - K1, 0) - np.maximum(x - K2, 0)) / (K2 - K1)\n",
    "\n",
    "def dg_dx(x, X0 = X0, K1 = K1, K2 = K2):\n",
    "    return X0 * np.where((K2 > x) & (x > K1), 1 , 0)/ (K2 - K1)\n",
    "\n",
    "SIG = lambda x:np.where(x >= 0,sigH,sigL)"
   ]
  },
  {
   "cell_type": "code",
   "execution_count": 4,
   "metadata": {
    "ExecuteTime": {
     "end_time": "2019-12-06T03:01:10.701356Z",
     "start_time": "2019-12-06T03:01:10.689231Z"
    }
   },
   "outputs": [],
   "source": [
    "def Scheme1(ts_arr, npaths_arr, sigmaHat, nknots = 10, S0 = X0):\n",
    "    ts1 , ts2 = ts_arr[0], ts_arr[1]\n",
    "    npaths1, npaths2 = npaths_arr[0], npaths_arr[1]\n",
    "\n",
    "    Xt = S0 * np.ones(npaths2)\n",
    "    deltat1 = 1/(len(ts1) - 1)\n",
    "    deltat2 = 1/(len(ts2) - 1)\n",
    "\n",
    "    X, dW = blackscholes_mc(S=S0, vol=sigmaHat, r=0, q=0, ts=ts1, npaths=npaths1)\n",
    "    dW = dW[1:] # we don't want the initial zeros\n",
    "    Y = g(X[-1])\n",
    "    Z = dg_dx(X[-1])\n",
    "\n",
    "    ps_gamma = []\n",
    "    fs_gamma = []\n",
    "    # Part one, estimating x->Gamma\n",
    "    for i in range(len(ts1)-2, -1, -1):\n",
    "        xknots = np.linspace(np.percentile(X[i], 1), np.percentile(X[i], 99), 10)\n",
    "        ps, fs = pwlinear_fit(X[i], Z*dW[i], xknots)\n",
    "        ps_gamma.append(ps)\n",
    "        fs_gamma.append(fs)\n",
    "        gamma = sum([f(X[i])*p for (f, p) in zip(fs, ps)])/(deltat1*sigmaHat*X[i])\n",
    "\n",
    "        ps, fs = pwlinear_fit(X[i], Y*dW[i], xknots)\n",
    "        Z = sum([f(X[i])*p for (f, p) in zip(fs, ps)])/(deltat1*sigmaHat*X[i])\n",
    "\n",
    "        ps, fs = pwlinear_fit(X[i], Y, xknots)\n",
    "        Y = sum([f(X[i])*p for (f, p) in zip(fs, ps)])+gamma*np.square(X[i])*(np.square(SIG(gamma))-np.square(sigmaHat))*deltat1/2\n",
    "\n",
    "    ps_gamma = ps_gamma[::-1]\n",
    "    fs_gamma = fs_gamma[::-1]\n",
    "    # Part two, using independent paths!\n",
    "    for i in range(len(ts2)-1):\n",
    "        idx = int(deltat2 * i / deltat1)\n",
    "        est = sum([f(Xt)*p for (f, p) in zip(fs_gamma[idx], ps_gamma[idx])])\n",
    "        Xt += SIG(est/ (deltat2*sigmaHat*Xt))*Xt*np.random.randn(npaths2)*np.sqrt(deltat2)\n",
    "\n",
    "    return np.mean(g(Xt))"
   ]
  },
  {
   "cell_type": "code",
   "execution_count": 5,
   "metadata": {
    "ExecuteTime": {
     "end_time": "2019-12-06T03:01:12.902441Z",
     "start_time": "2019-12-06T03:01:10.702197Z"
    }
   },
   "outputs": [
    {
     "name": "stdout",
     "output_type": "stream",
     "text": [
      "Scheme 1 Price with 0.18 sigmaHat is 55.345933236583186\n"
     ]
    }
   ],
   "source": [
    "print(\"Scheme 1 Price with 0.18 sigmaHat is {}\".format(Scheme1(ts_arr, npaths_arr, 0.18)))"
   ]
  },
  {
   "cell_type": "code",
   "execution_count": 6,
   "metadata": {
    "ExecuteTime": {
     "end_time": "2019-12-06T03:01:12.910419Z",
     "start_time": "2019-12-06T03:01:12.903469Z"
    }
   },
   "outputs": [],
   "source": [
    "# Experiment with different values of sigmaHat, and smaller deltaT1.\n",
    "def ts_arrBuilder(nT1 = 12, nT2 = 400, T = 1):\n",
    "    return np.array([np.linspace(0, T, nT1 + 1), np.linspace(0, T, nT2 + 1)])"
   ]
  },
  {
   "cell_type": "code",
   "execution_count": 38,
   "metadata": {
    "ExecuteTime": {
     "end_time": "2019-12-06T04:12:48.761495Z",
     "start_time": "2019-12-06T04:10:49.334043Z"
    }
   },
   "outputs": [],
   "source": [
    "sigmaHats = np.linspace(0.1, 0.5, 11)\n",
    "different_nt1 = 12*np.array(range(2, 7))\n",
    "ts_arr0 = ts_arrBuilder()\n",
    "price_different_nt1 = [Scheme1(ts_arr0, npaths_arr, sig) for sig in sigmaHats]\n",
    "for nt1 in different_nt1:\n",
    "    ts_arr0 = ts_arrBuilder(nt1)\n",
    "    price_different_nt1 = np.vstack((price_different_nt1,[Scheme1(ts_arr0, npaths_arr, sig) for sig in sigmaHats]))\n",
    "sigmaHats_col = ['sigmaHat: '+str(i)[:4] for i in sigmaHats]\n",
    "deltaT1_row = ['deltaT1: '+str(1/i)[:6] for i in different_nt1]\n",
    "deltaT1_row.insert(0,'deltaT1: '+str(1/12)[:6])"
   ]
  },
  {
   "cell_type": "code",
   "execution_count": 39,
   "metadata": {
    "ExecuteTime": {
     "end_time": "2019-12-06T04:12:48.774998Z",
     "start_time": "2019-12-06T04:12:48.762458Z"
    }
   },
   "outputs": [
    {
     "data": {
      "text/html": [
       "<div>\n",
       "<style scoped>\n",
       "    .dataframe tbody tr th:only-of-type {\n",
       "        vertical-align: middle;\n",
       "    }\n",
       "\n",
       "    .dataframe tbody tr th {\n",
       "        vertical-align: top;\n",
       "    }\n",
       "\n",
       "    .dataframe thead th {\n",
       "        text-align: right;\n",
       "    }\n",
       "</style>\n",
       "<table border=\"1\" class=\"dataframe\">\n",
       "  <thead>\n",
       "    <tr style=\"text-align: right;\">\n",
       "      <th></th>\n",
       "      <th>sigmaHat: 0.1</th>\n",
       "      <th>sigmaHat: 0.14</th>\n",
       "      <th>sigmaHat: 0.18</th>\n",
       "      <th>sigmaHat: 0.22</th>\n",
       "      <th>sigmaHat: 0.26</th>\n",
       "      <th>sigmaHat: 0.30</th>\n",
       "      <th>sigmaHat: 0.33</th>\n",
       "      <th>sigmaHat: 0.38</th>\n",
       "      <th>sigmaHat: 0.42</th>\n",
       "      <th>sigmaHat: 0.45</th>\n",
       "      <th>sigmaHat: 0.5</th>\n",
       "    </tr>\n",
       "  </thead>\n",
       "  <tbody>\n",
       "    <tr>\n",
       "      <th>deltaT1: 0.0833</th>\n",
       "      <td>51.701684</td>\n",
       "      <td>54.695808</td>\n",
       "      <td>55.110396</td>\n",
       "      <td>54.809320</td>\n",
       "      <td>55.436061</td>\n",
       "      <td>55.435242</td>\n",
       "      <td>55.451554</td>\n",
       "      <td>55.025025</td>\n",
       "      <td>55.068045</td>\n",
       "      <td>54.817736</td>\n",
       "      <td>55.162517</td>\n",
       "    </tr>\n",
       "    <tr>\n",
       "      <th>deltaT1: 0.0416</th>\n",
       "      <td>50.110851</td>\n",
       "      <td>53.412867</td>\n",
       "      <td>54.873597</td>\n",
       "      <td>54.302805</td>\n",
       "      <td>54.949725</td>\n",
       "      <td>54.756057</td>\n",
       "      <td>54.988650</td>\n",
       "      <td>55.067007</td>\n",
       "      <td>53.745764</td>\n",
       "      <td>54.416526</td>\n",
       "      <td>55.201508</td>\n",
       "    </tr>\n",
       "    <tr>\n",
       "      <th>deltaT1: 0.0277</th>\n",
       "      <td>50.547907</td>\n",
       "      <td>52.406432</td>\n",
       "      <td>53.718369</td>\n",
       "      <td>54.314509</td>\n",
       "      <td>53.816825</td>\n",
       "      <td>54.776681</td>\n",
       "      <td>55.428618</td>\n",
       "      <td>54.563792</td>\n",
       "      <td>54.760332</td>\n",
       "      <td>54.912421</td>\n",
       "      <td>54.887022</td>\n",
       "    </tr>\n",
       "    <tr>\n",
       "      <th>deltaT1: 0.0208</th>\n",
       "      <td>50.112037</td>\n",
       "      <td>51.660877</td>\n",
       "      <td>52.930929</td>\n",
       "      <td>54.839679</td>\n",
       "      <td>53.529277</td>\n",
       "      <td>55.079873</td>\n",
       "      <td>54.628144</td>\n",
       "      <td>53.941273</td>\n",
       "      <td>54.395763</td>\n",
       "      <td>54.520514</td>\n",
       "      <td>54.303045</td>\n",
       "    </tr>\n",
       "    <tr>\n",
       "      <th>deltaT1: 0.0166</th>\n",
       "      <td>49.148085</td>\n",
       "      <td>52.133884</td>\n",
       "      <td>52.972040</td>\n",
       "      <td>53.554816</td>\n",
       "      <td>53.858739</td>\n",
       "      <td>54.797031</td>\n",
       "      <td>54.458331</td>\n",
       "      <td>54.431335</td>\n",
       "      <td>54.893306</td>\n",
       "      <td>53.962831</td>\n",
       "      <td>54.331959</td>\n",
       "    </tr>\n",
       "    <tr>\n",
       "      <th>deltaT1: 0.0138</th>\n",
       "      <td>49.050038</td>\n",
       "      <td>51.553024</td>\n",
       "      <td>52.648762</td>\n",
       "      <td>53.648305</td>\n",
       "      <td>53.434419</td>\n",
       "      <td>53.994347</td>\n",
       "      <td>53.869031</td>\n",
       "      <td>55.068623</td>\n",
       "      <td>53.500179</td>\n",
       "      <td>53.562267</td>\n",
       "      <td>54.000246</td>\n",
       "    </tr>\n",
       "  </tbody>\n",
       "</table>\n",
       "</div>"
      ],
      "text/plain": [
       "                 sigmaHat: 0.1  sigmaHat: 0.14  sigmaHat: 0.18  \\\n",
       "deltaT1: 0.0833      51.701684       54.695808       55.110396   \n",
       "deltaT1: 0.0416      50.110851       53.412867       54.873597   \n",
       "deltaT1: 0.0277      50.547907       52.406432       53.718369   \n",
       "deltaT1: 0.0208      50.112037       51.660877       52.930929   \n",
       "deltaT1: 0.0166      49.148085       52.133884       52.972040   \n",
       "deltaT1: 0.0138      49.050038       51.553024       52.648762   \n",
       "\n",
       "                 sigmaHat: 0.22  sigmaHat: 0.26  sigmaHat: 0.30  \\\n",
       "deltaT1: 0.0833       54.809320       55.436061       55.435242   \n",
       "deltaT1: 0.0416       54.302805       54.949725       54.756057   \n",
       "deltaT1: 0.0277       54.314509       53.816825       54.776681   \n",
       "deltaT1: 0.0208       54.839679       53.529277       55.079873   \n",
       "deltaT1: 0.0166       53.554816       53.858739       54.797031   \n",
       "deltaT1: 0.0138       53.648305       53.434419       53.994347   \n",
       "\n",
       "                 sigmaHat: 0.33  sigmaHat: 0.38  sigmaHat: 0.42  \\\n",
       "deltaT1: 0.0833       55.451554       55.025025       55.068045   \n",
       "deltaT1: 0.0416       54.988650       55.067007       53.745764   \n",
       "deltaT1: 0.0277       55.428618       54.563792       54.760332   \n",
       "deltaT1: 0.0208       54.628144       53.941273       54.395763   \n",
       "deltaT1: 0.0166       54.458331       54.431335       54.893306   \n",
       "deltaT1: 0.0138       53.869031       55.068623       53.500179   \n",
       "\n",
       "                 sigmaHat: 0.45  sigmaHat: 0.5  \n",
       "deltaT1: 0.0833       54.817736      55.162517  \n",
       "deltaT1: 0.0416       54.416526      55.201508  \n",
       "deltaT1: 0.0277       54.912421      54.887022  \n",
       "deltaT1: 0.0208       54.520514      54.303045  \n",
       "deltaT1: 0.0166       53.962831      54.331959  \n",
       "deltaT1: 0.0138       53.562267      54.000246  "
      ]
     },
     "execution_count": 39,
     "metadata": {},
     "output_type": "execute_result"
    }
   ],
   "source": [
    "df0 = pd.DataFrame(columns=sigmaHats_col, index=deltaT1_row, data=price_different_nt1)\n",
    "df0"
   ]
  },
  {
   "cell_type": "markdown",
   "metadata": {},
   "source": [
    "Comments: As we can see from the above table:\n",
    "\n",
    "For a given deltat and a given number of path for the simulation. The optimal SigmaHat is around 30\\%. The extreme value for both small SigmaHat and high SigmaHat is gives not reasonable estimation. \n",
    "\n",
    "Also, when the deltaT is smaller than $1/12$ and for a certain number of path and a certain sigmaHat, the larger the deltaT is, the more the accurate the the estimated price we have. In detail, this is feature of the how the BSDE numerical scheme diverges for too small increments. For smaller deltaT, we need more path to enhance the accuracy of estimation."
   ]
  },
  {
   "cell_type": "code",
   "execution_count": 9,
   "metadata": {
    "ExecuteTime": {
     "end_time": "2019-12-06T03:03:25.016719Z",
     "start_time": "2019-12-06T03:03:25.007745Z"
    }
   },
   "outputs": [],
   "source": [
    "def drawScheme1Gamma(ts_arr, npaths_arr, sigmaHat, nknots = 10, S0 = X0):\n",
    "    ts1 , ts2 = ts_arr[0], ts_arr[1]\n",
    "    npaths1, npaths2 = npaths_arr[0], npaths_arr[1]\n",
    "\n",
    "    Xt = S0 * np.ones(npaths2)\n",
    "    deltat1 = 1/(len(ts1) - 1)\n",
    "    deltat2 = 1/(len(ts2) - 1)\n",
    "\n",
    "    X, dW = blackscholes_mc(S=S0, vol=sigmaHat, r=0, q=0, ts=ts1, npaths=npaths1)\n",
    "    dW = dW[1:] # we don't want the initial zeros\n",
    "    Y = g(X[-1])\n",
    "    Z = dg_dx(X[-1])\n",
    "    # Part one, estimating x->Gamma\n",
    "    x=np.linspace(85,115,101)\n",
    "    for i in range(len(ts1)-2, -1, -1):\n",
    "        t = (i + 1) * deltat1\n",
    "        xknots = np.linspace(np.percentile(X[i], 1), np.percentile(X[i], 99), 10)\n",
    "        ps, fs = pwlinear_fit(X[i], Z*dW[i], xknots)\n",
    "        \n",
    "        gamma = sum([f(x)*p for (f, p) in zip(fs, ps)])/(deltat1*sigmaHat*x)\n",
    "        plt.plot(x, gamma,label = 't: '+str(t)[:4])\n",
    "    plt.legend(loc=2)\n",
    "    plt.show()\n",
    "    return"
   ]
  },
  {
   "cell_type": "code",
   "execution_count": 10,
   "metadata": {
    "ExecuteTime": {
     "end_time": "2019-12-06T03:03:25.225160Z",
     "start_time": "2019-12-06T03:03:25.017716Z"
    }
   },
   "outputs": [
    {
     "data": {
      "image/png": "[encoded data removed]",
      "text/plain": [
       "<Figure size 432x288 with 1 Axes>"
      ]
     },
     "metadata": {
      "needs_background": "light"
     },
     "output_type": "display_data"
    }
   ],
   "source": [
    "ts_arr0 = ts_arrBuilder()\n",
    "drawScheme1Gamma(ts_arr0, npaths_arr, 0.18, nknots = 10, S0 = X0)"
   ]
  },
  {
   "cell_type": "markdown",
   "metadata": {},
   "source": [
    "Comments: \n",
    "\n",
    "The region where the gamma is positive is more likely OTM and negtive gamma region is more likely ITM.  \n",
    "\n",
    "Also, I noticed that, near the range between 90 and 100, the higher the stock prices are, the more negtive the gamma is. The more lower the stock prices are, the more postive the gamma is. I also notice that abs(gamma) is larger when the time approach to maturity."
   ]
  },
  {
   "cell_type": "markdown",
   "metadata": {},
   "source": [
    "### Question 1.b"
   ]
  },
  {
   "cell_type": "code",
   "execution_count": 11,
   "metadata": {
    "ExecuteTime": {
     "end_time": "2019-12-06T03:03:25.244143Z",
     "start_time": "2019-12-06T03:03:25.226159Z"
    }
   },
   "outputs": [],
   "source": [
    "def Scheme2(ts_arr, npaths_arr, sigmaHat, nknots = 10, S0 = X0):\n",
    "    ts1 , ts2 = ts_arr[0], ts_arr[1]\n",
    "    npaths1, npaths2 = npaths_arr[0], npaths_arr[1]\n",
    "    Xt = S0 * np.ones(npaths2)\n",
    "    deltat1 = 1/(len(ts1) - 1)\n",
    "    deltat2 = 1/(len(ts2) - 1)\n",
    "\n",
    "    X, dW = blackscholes_mc(S=S0, vol=sigmaHat, r=0, q=0, ts=ts1, npaths=npaths1)\n",
    "    dW = dW[1:] # we don't want the initial zeros\n",
    "    Y = g(X[-1])\n",
    "    ps_gamma = []\n",
    "    fs_gamma = []\n",
    "    # Part one, estimating x->Gamma\n",
    "    for i in range(len(ts1)-2, -1, -1):\n",
    "        term1 = Y *(np.square(dW[i]) - deltat1 * (1 + sigmaHat * dW[i]))\n",
    "        term2 = np.square(deltat1 * sigmaHat * X[i])\n",
    "        xknots = np.linspace(np.percentile(X[i], 1), np.percentile(X[i], 99), 10)\n",
    "        ps, fs = pwlinear_fit(X[i], term1, xknots)\n",
    "        ps_gamma.append(ps)\n",
    "        fs_gamma.append(fs)\n",
    "        gamma = sum([f(X[i])*p for (f, p) in zip(fs, ps)])/term2\n",
    "        term3 = gamma*np.square(X[i])*(np.square(SIG(gamma))-np.square(sigmaHat))*deltat1/2\n",
    "        ps, fs = pwlinear_fit(X[i], Y, xknots)\n",
    "        Y = sum([f(X[i])*p for (f, p) in zip(fs, ps)]) + term3\n",
    "\n",
    "    ps_gamma = ps_gamma[::-1]\n",
    "    fs_gamma = fs_gamma[::-1]\n",
    "    # Part two, using independent paths!\n",
    "    for i in range(len(ts2)-1):\n",
    "        idx = int(deltat2 * i / deltat1)\n",
    "        est = sum([f(Xt)*p for (f, p) in zip(fs_gamma[idx], ps_gamma[idx])])\n",
    "        Xt += SIG(est)*Xt*np.random.randn(npaths2)*np.sqrt(deltat2)\n",
    "\n",
    "    return np.mean(g(Xt))"
   ]
  },
  {
   "cell_type": "code",
   "execution_count": 12,
   "metadata": {
    "ExecuteTime": {
     "end_time": "2019-12-06T03:03:27.115756Z",
     "start_time": "2019-12-06T03:03:25.246106Z"
    }
   },
   "outputs": [
    {
     "data": {
      "text/plain": [
       "53.11458008225973"
      ]
     },
     "execution_count": 12,
     "metadata": {},
     "output_type": "execute_result"
    }
   ],
   "source": [
    "Scheme2(ts_arr0, npaths_arr, 0.18)"
   ]
  },
  {
   "cell_type": "markdown",
   "metadata": {},
   "source": [
    "Comments: \n",
    "\n",
    "Usually, the price of Scheme 2 is lower than the price of Scheme 1. The price of Scheme 2 is roughly 53 and the price of Scheme 1 is roughly 55.3. Abviously, the Scheme 1 give a better estimation. Also, the variance of Scheme 2 is larger than Scheme 1. All in all, Scheme 1 is better than Scheme 2."
   ]
  },
  {
   "cell_type": "markdown",
   "metadata": {},
   "source": [
    "### Question 1.c"
   ]
  },
  {
   "cell_type": "markdown",
   "metadata": {},
   "source": [
    "My explanation of why this replacement does not change the left hand side is on the written paper."
   ]
  },
  {
   "cell_type": "code",
   "execution_count": 13,
   "metadata": {
    "ExecuteTime": {
     "end_time": "2019-12-06T03:03:27.128705Z",
     "start_time": "2019-12-06T03:03:27.116694Z"
    }
   },
   "outputs": [],
   "source": [
    "def Scheme2a(ts_arr, npaths_arr, sigmaHat, nknots = 10, S0 = X0):\n",
    "    ts1 , ts2 = ts_arr[0], ts_arr[1]\n",
    "    npaths1, npaths2 = npaths_arr[0], npaths_arr[1]\n",
    "    Xt = S0 * np.ones(npaths2)\n",
    "    deltat1 = 1/(len(ts1) - 1)\n",
    "    deltat2 = 1/(len(ts2) - 1)\n",
    "\n",
    "    X, dW = blackscholes_mc(S=S0, vol=sigmaHat, r=0, q=0, ts=ts1, npaths=npaths1)\n",
    "    dW = dW[1:] # we don't want the initial zeros\n",
    "    Y = g(X[-1])\n",
    "    ps_gamma = []\n",
    "    fs_gamma = []\n",
    "    # Part one, estimating x->Gamma\n",
    "    for i in range(len(ts1)-2, -1, -1):\n",
    "        term2 = np.square(deltat1 * sigmaHat * X[i])\n",
    "        xknots = np.linspace(np.percentile(X[i], 1), np.percentile(X[i], 99), 10)\n",
    "        ps, fs = pwlinear_fit(X[i], Y, xknots)\n",
    "        YEst =  sum([f(X[i])*p for (f, p) in zip(fs, ps)])\n",
    "        term1 = (Y - YEst) *(np.square(dW[i]) - deltat1 * (1 + sigmaHat * dW[i]))\n",
    "        ps, fs = pwlinear_fit(X[i], term1, xknots)\n",
    "        ps_gamma.append(ps)\n",
    "        fs_gamma.append(fs)\n",
    "        gamma = sum([f(X[i])*p for (f, p) in zip(fs, ps)])/term2\n",
    "        term3 = gamma*np.square(X[i])*(np.square(SIG(gamma))-np.square(sigmaHat))*deltat1/2\n",
    "        Y = YEst + term3\n",
    "\n",
    "    ps_gamma = ps_gamma[::-1]\n",
    "    fs_gamma = fs_gamma[::-1]\n",
    "    # Part two, using independent paths!\n",
    "    for i in range(len(ts2)-1):\n",
    "        idx = int(deltat2 * i / deltat1)\n",
    "        est = sum([f(Xt)*p for (f, p) in zip(fs_gamma[idx], ps_gamma[idx])])\n",
    "        Xt += SIG(est)*Xt*np.random.randn(npaths2)*np.sqrt(deltat2)\n",
    "\n",
    "    return np.mean(g(Xt))"
   ]
  },
  {
   "cell_type": "code",
   "execution_count": 14,
   "metadata": {
    "ExecuteTime": {
     "end_time": "2019-12-06T03:03:28.956786Z",
     "start_time": "2019-12-06T03:03:27.129659Z"
    }
   },
   "outputs": [
    {
     "data": {
      "text/plain": [
       "55.15964396769009"
      ]
     },
     "execution_count": 14,
     "metadata": {},
     "output_type": "execute_result"
    }
   ],
   "source": [
    "Scheme2a(ts_arr0, npaths_arr, 0.18)"
   ]
  },
  {
   "cell_type": "code",
   "execution_count": 15,
   "metadata": {
    "ExecuteTime": {
     "end_time": "2019-12-06T03:06:08.882868Z",
     "start_time": "2019-12-06T03:03:28.957783Z"
    }
   },
   "outputs": [
    {
     "name": "stdout",
     "output_type": "stream",
     "text": [
      "The unbiased sample variance of Scheme1 is 0.09920300014857024\n",
      "The unbiased sample variance of Scheme2 is 0.3819471833645819\n",
      "The unbiased sample variance of Scheme2a is 0.07483559738361542\n"
     ]
    }
   ],
   "source": [
    "SchemeName = ['1','2','2a']\n",
    "SchemeFun = [Scheme1, Scheme2, Scheme2a]\n",
    "for i in range(3):\n",
    "    print('The unbiased sample variance of Scheme'+ SchemeName[i] +' is {}'.format(np.var([SchemeFun[i](ts_arr0, npaths_arr, 0.18) for j in range(30)], ddof = 1)))"
   ]
  },
  {
   "cell_type": "markdown",
   "metadata": {},
   "source": [
    "Comments: \n",
    "\n",
    "From the above, we can see there is a sigficant reduce of variance of Scheme2a from the Scheme2. Yes, I observe variance reduction.\n",
    "\n",
    "Please see the pdf:\n",
    "Explaination of why this replacement does not change the left hand side\n"
   ]
  },
  {
   "cell_type": "markdown",
   "metadata": {},
   "source": [
    "<h3 style=\"color:deepskyblue\">The particle Method and Smile Calibration</h3>\n",
    "\n",
    "<b style=\"color:darkorange\">Question 2.</b> Consider the stochastic local volatility (SLV) model\n",
    "\n",
    "$$\n",
    "\\begin{array}{l}\n",
    "dS_t = a_t l(t, S_t) S_t dW^{(1)}_t\\\\\n",
    "a_t=\\sigma_0 e^{Y_t}\\quad\\text{where}\\quad d Y_t = -\\kappa Y_tdt+\\gamma dW^{(2)}_t\\\\\n",
    "d \\langle W^{(1)}, W^{(2)} \\rangle_t = \\rho dt.\n",
    "\\end{array}\n",
    "$$\n",
    "\n",
    "The numerical values for the model parameters are\n",
    "- $T = 1$.\n",
    "- $S_0 = 100$.\n",
    "- $\\sigma_0 = 15\\%$.\n",
    "- $Y_0 = 0$.\n",
    "- $\\rho = -50\\%$.\n",
    "- $\\gamma = 50\\%$.\n",
    "- $\\kappa = 1$.\n",
    "\n",
    "The goal is to find a leverage function $l(t, S)$ so that this model matches the market prices of vanilla options. For the sake of simplicity, we assume that the market implied volatility surface is flat $\\sigma_{\\textrm{Market}} \\equiv 15\\%$. In that case, we also have $\\sigma_{\\textrm{Dup}}(t,S) \\equiv 15\\%$."
   ]
  },
  {
   "cell_type": "markdown",
   "metadata": {},
   "source": [
    "Note that the above SLV model becomes a pure stochastic volatility model when the leverage function is identically equal to 1. Below we describe a Monte Carlo simulation scheme for the pure stochastic volatility model. You can modify it to simulate and calibrate the SLV model.\n",
    "\n",
    "First we discretize the interval $(0,T)$ into subintervals $(t_{i-1}, t_i)$, $1\\leq i\\leq n$, and set $\\Delta t_i=t_i-t_{i-1}$. \n",
    "\n",
    "The Ornstein-Uhlenbeck process $Y$ is explicitly solvable:\n",
    "\\begin{equation}\n",
    "Y_{t_i}=e^{-\\kappa\\Delta t_i}Y_{t_{i-1}}+\\int_{t_{i-1}}^{t_i}\\gamma e^{\\kappa\\left(s-t_i\\right)}dW_s^{(2)}.\n",
    "\\end{equation}\n",
    "\n",
    "Therefore for given $Y_{t_{i-1}}$, $Y_{t_i}$ is a Gaussian variable with \n",
    "\\begin{equation}\\tag{1}\n",
    "\\mathbb{E}\\left[\\left.Y_{t_i}\\right\\vert Y_{t_{i-1}}\\right]=e^{-\\kappa\\Delta t_i}Y_{t_{i-1}},\\quad\n",
    "\\text{var}\\left[\\left.Y_{t_i}\\right\\vert Y_{t_{i-1}}\\right]=\\frac{\\gamma^2}{2\\kappa}\\left(1-e^{-2\\kappa\\Delta t_i}\\right)\n",
    "\\end{equation}\n",
    "\n",
    "so that paths of $Y$ can be simulated exactly.\n",
    "\n",
    "To simualte the spot process $S$, we use the Euler scheme:\n",
    "$$\\log S_{t_i}-\\log S_{t_{i-1}}=-\\frac{1}{2}\\sigma_0^2e^{2Y_{t_{i-1}}}\\Delta t_i+\\sigma_0 e^{Y_{t_{i-1}}}\\int_{t_{i-1}}^{t_i}dW^{(1)}_t$$\n",
    "\n",
    "Thus for given $S_{t_{i-1}}$ and $Y_{t_{i-1}}$, $\\log S_{t_i}$ and $Y_{t_i}$ are jointly Gaussian variables with\n",
    "\n",
    "\\begin{equation}\\tag{2}\n",
    "\\mathbb{E}\\left[\\left.\\log S_{t_i}\\right\\vert S_{t_{i-1}},Y_{t_{i-1}}\\right]=\\log S_{t_{i-1}}-\\frac{1}{2}\\sigma_0^2e^{2Y_{t_{i-1}}}\\Delta t_i,\\quad\\text{Var}\\left[\\left.\\log S_{t_i}\\right\\vert S_{i_{i-1}}, Y_{t_{i-1}}\\right]=\\sigma_0^2e^{2Y_{t_{i-1}}}\\Delta t_i\n",
    "\\end{equation}\n",
    "\n",
    "\\begin{equation}\\tag{3}\n",
    "\\text{Cov}\\left[\\left.Y_{t_i},\\log S_{t_i}\\right\\vert S_{t_{i-1}}, Y_{t_{i-1}}\\right]=\\sigma_0 e^{Y_{t_{i-1}}}\\frac{\\gamma\\rho}{\\kappa}\\left(1-e^{-\\kappa\\Delta t_i}\\right)\n",
    "\\end{equation}\n",
    "\n",
    "Over the time interval $[t_{i-1}, t_i]$, we can advance $\\log S$ and $Y$ by generating Gaussian variables $\\log S_{t_i}$ and $Y_{t_i}$ using equations (1)-(3)."
   ]
  },
  {
   "cell_type": "markdown",
   "metadata": {
    "collapsed": true
   },
   "source": [
    "<b>(a).</b> Implementation of the Particle Method.\n",
    "- Implement the particle method studied in class to find the leverage function $l$. For this purpose, you may use the zero-th order non-parametric regression routine provided in the first assignment. We suggest that you use the quartic kernel\n",
    "\n",
    "$$K(x)=(x+1)^2(1-x)^2\\quad\\text{for }-1\\leq x\\leq 1\\quad\\text{and}\\quad0\\quad\\text{ elsewhere}$$\n",
    "\n",
    "together with the bandwidth \n",
    "\n",
    "$$h = \\kappa \\sigma_{\\mathrm{Market}} S_0 \\sqrt{\\max(t_k,0.15)}N^{-0.2}$$\n",
    "\n",
    "at discretization date $t_k$. Make sure to fine-tune the dimensionless bandwidth parameter $\\kappa$. Its order of magnitude is 1.0. Use $\\Delta t = 1/100$, $N=10,000$ paths. Note: In class, we described an acceleration technique that involves sorting the \"particles\" $(S_{t_k},a_{t_k})$ according to the spot value $S_{t_k}$. Since the kernel we have chosen has compact support and is fairly inexpensive to evaluate, you may ignore this acceleration technique here. This means that each estimation of a conditional expectation $\\mathbb{E}\\left[\\left.a_{t_k}^2\\right\\vert S_{t_k}=x\\right]$ (for $x$ in a grid of spot values) involves the ratio of two sums of $N$ terms each.\n",
    "\n",
    "- Check that the resulting model is indeed calibrated to the market implied volatilities $\\sigma_{\\textrm{Market}} \\equiv 15\\%$. To this end, compute estimates of the call prices (maturity $T=1$) in the calibrated model for strikes $70, 80, 90, 100, 110, 120, 130, 140$, and invert the Black-Scholes formula to get the corresponding estimation of the implied volatilities $\\hat\\sigma(T,K)$. To estimate the call prices in the calibrated model, simulate a new set of independent paths with the calibrated leverage function $l$ and $N_2 = 100,000$ paths. For the inversion of the Black-Scholes formula, you can use the function <code>blackscholes_impv</code> provided below.\n",
    "\n",
    "<b>(b).</b> Fix the spot-vol correlation $\\rho = 0\\%$ and mean reversion $\\kappa=1$. We study the impact of volatility of volatility $\\gamma$ on the smile in the pure stochastic volatility model and calibrated leverage function in the SLV model. Perform the following tasks with various values of $\\gamma$. Suggested values of $\\gamma$: $0\\%$, $25\\%$, $50\\%$, $75\\%$.\n",
    "- Recalibrate the leverage function $l(t,S)$ for each $\\gamma$, and plot the calibrated leverage function $l(t, S)$ as a function of the spot value $S$ for a fixed maturity, e.g., $t = T$ with various values of $\\gamma$ in the same graph. Comment on the dependence of the shape of the leverage function on $\\gamma$.\n",
    "- Plot the corresponding smile at maturity $T$ for the pure stochastic volatility model (set the leverage function $l \\equiv 1$) with the various values of $\\gamma$ in the same graph. Comment on the dependence of the shape of the smile on $\\gamma$.\n",
    "\n",
    "<b>(c).</b> Fix the volatility of volatility $\\gamma = 50\\%$ and mean reversion $\\kappa=1$. We study the impact of spot-vol correlation $\\rho$ on the smile in the pure stochastic volatility model and calibrated leverage function in the SLV model. Perform the following tasks with various values of $\\rho$. Suggested values of $\\rho$: $-50\\%$, $0\\%$, $50\\%$.\n",
    "- Recalibrate the leverage function $l(t,S)$ for each $\\rho$, and plot the calibrated leverage function $l(t, S)$ as a function of the spot value $S$ for a fixed maturity, e.g., $t = T$ with various values of $\\rho$ in the same graph. Comment on the dependence of the shape of the leverage function on $\\rho$.\n",
    "- Plot the corresponding smile at maturity $T$ for the pure stochastic volatility model (set the leverage function $l \\equiv 1$) with the various values of $\\rho$ in the same graph. Comment on the dependence of the shape of the smile on $\\rho$.\n",
    "\n",
    "<b>(d).</b> Fix the spot-vol correlation $\\rho = 0\\%$ and volatility of volatility $\\gamma = 50\\%$. We study the impact of mean reversion $\\kappa$ on the smile in the pure stochastic volatility model and calibrated leverage function in the SLV model. Perform the following tasks with various values of $\\kappa$. Suggested values of $\\kappa$: $0.1$, $1$, $10$.\n",
    "- Recalibrate the leverage function $l(t,S)$ for each $\\gamma$, and plot the calibrated leverage function $l(t, S)$ as a function of the spot value $S$ for a fixed maturity, e.g., $t = T$ with various values of $\\gamma$ in the same graph. Comment on the dependence of the shape of the leverage function on $\\kappa$.\n",
    "- Plot the corresponding smile at maturity $T$ for the pure stochastic volatility model (set the leverage function $l \\equiv 1$) with the various values of $\\kappa$ in the same graph. Comment on the dependence of the shape of the smile on $\\kappa$.\n",
    "\n",
    "<b>(e).</b> Consider the forward-starting straddle with payoff\n",
    "\\begin{equation*}\n",
    "\\left\\vert \\frac{S_{T_2}}{S_{T_1}}-1 \\right\\vert\n",
    "\\end{equation*}\n",
    "with $T_1 = T - \\frac{3}{12}$, $T_2 = T$. Use $\\gamma = 100\\%$, $\\rho = -50\\%$ and $\\kappa=1$. Compare the prices of this option in the Black-Scholes model with volatility 15% and in the calibrated SLV model. Comment on the result. Why is it of interest to use stochastic local volatility models for pricing derivatives?"
   ]
  },
  {
   "cell_type": "code",
   "execution_count": 16,
   "metadata": {
    "ExecuteTime": {
     "end_time": "2019-12-06T03:06:08.889850Z",
     "start_time": "2019-12-06T03:06:08.883866Z"
    }
   },
   "outputs": [],
   "source": [
    "def blackscholes_price(K, T, S, vol, r=0, q=0, callput='call'):\n",
    "    \"\"\"Compute the call/put option price in Black-Scholes model\n",
    "    \n",
    "    Parameters\n",
    "    ----------\n",
    "    K: scalar or array_like\n",
    "        The strike of the option.\n",
    "    T: scalar or array_like\n",
    "        The maturity of the option.\n",
    "    S: scalar or array_like\n",
    "        The spot price of the underlying security.\n",
    "    vol: scalar or array_like\n",
    "        The implied Black-Scholes volatility.\n",
    "    callput: str\n",
    "        Must be either 'call' or 'put'\n",
    "\n",
    "    Returns\n",
    "    -------\n",
    "    price: scalar or array_like\n",
    "        The price of the option.\n",
    "\n",
    "    Examples\n",
    "    --------\n",
    "    >>> blackscholes_price(95, 0.25, 100, 0.2, r=0.05, callput='put')\n",
    "    1.5342604771222823\n",
    "    \"\"\"\n",
    "    F = S*np.exp((r-q)*T)\n",
    "    w = vol**2*T\n",
    "    d1 = (np.log(F/K)+0.5*w)/np.sqrt(w)\n",
    "    d2 = d1 - np.sqrt(w)\n",
    "    callput = callput.lower()\n",
    "    if callput == 'call':\n",
    "        opttype = 1\n",
    "    elif callput == 'put':\n",
    "        opttype = -1\n",
    "    else:\n",
    "        raise ValueError('The value of callput must be either \"call\" or \"put\".')\n",
    "    price = (opttype*F*norm.cdf(opttype*d1)-opttype*K*norm.cdf(opttype*(d2)))*np.exp(-r*T)\n",
    "    return price\n"
   ]
  },
  {
   "cell_type": "code",
   "execution_count": 17,
   "metadata": {
    "ExecuteTime": {
     "end_time": "2019-12-06T03:06:08.908308Z",
     "start_time": "2019-12-06T03:06:08.890847Z"
    }
   },
   "outputs": [
    {
     "data": {
      "text/plain": [
       "array(0.20654803)"
      ]
     },
     "execution_count": 17,
     "metadata": {},
     "output_type": "execute_result"
    }
   ],
   "source": [
    "# all inputs must be scalar\n",
    "def blackscholes_impv_scalar(K, T, S, value, r=0, q=0, callput='call', tol=1e-6, maxiter=500):\n",
    "    \"\"\"Compute implied vol in Black-Scholes model\n",
    "    \n",
    "    Parameters\n",
    "    ----------\n",
    "    K: scalar\n",
    "        The strike of the option.\n",
    "    T: scalar\n",
    "        The maturity of the option.\n",
    "    S: scalar\n",
    "        The spot price of the underlying security.\n",
    "    value: scalar\n",
    "        The value of the option\n",
    "    callput: str\n",
    "        Must be either 'call' or 'put'\n",
    "\n",
    "    Returns\n",
    "    -------\n",
    "    vol: scalar\n",
    "        The implied vol of the option.\n",
    "    \"\"\"\n",
    "    if (K <= 0) or (T <= 0):\n",
    "        return np.nan\n",
    "    F = S*np.exp((r-q)*T)\n",
    "    K = K/F\n",
    "    value = value*np.exp(r*T)/F\n",
    "    callput = callput.lower()\n",
    "    if callput not in ['call', 'put']:\n",
    "        raise ValueError('The value of \"callput\" must be either \"call\" or \"put\"')\n",
    "    opttype = 1 if callput == 'call' else -1\n",
    "    value -= max(opttype * (1 - K), 0)\n",
    "    if value < 0:\n",
    "        return np.nan\n",
    "    if (value == 0):\n",
    "        return 0\n",
    "    j = 1\n",
    "    p = np.log(K)\n",
    "    if K >= 1:\n",
    "        x0 = np.sqrt(2 * p)\n",
    "        x1 = x0 - (0.5 - K * norm.cdf(-x0) - value) * np.sqrt(2*np.pi)\n",
    "        while (abs(x0 - x1) > tol*np.sqrt(T)) and (j < maxiter):\n",
    "            x0 = x1\n",
    "            d1 = -p/x1+0.5*x1\n",
    "            x1 = x1 - (norm.cdf(d1) - K*norm.cdf(d1-x1)-value)*np.sqrt(2*np.pi)*np.exp(0.5*d1**2)\n",
    "            j += 1\n",
    "        return x1 / np.sqrt(T)\n",
    "    else:\n",
    "        x0 = np.sqrt(-2 * p)\n",
    "        x1 = x0 - (0.5*K-norm.cdf(-x0)-value)*np.sqrt(2*np.pi)/K\n",
    "        while (abs(x0-x1) > tol*np.sqrt(T)) and (j < maxiter):\n",
    "            x0 = x1\n",
    "            d1 = -p/x1+0.5*x1\n",
    "            x1 = x1-(K*norm.cdf(x1-d1)-norm.cdf(-d1)-value)*np.sqrt(2*np.pi)*np.exp(0.5*d1**2)\n",
    "            j += 1\n",
    "        return x1/np.sqrt(T)\n",
    "\n",
    "# vectorized version\n",
    "blackscholes_impv = np.vectorize(blackscholes_impv_scalar, excluded={'callput', 'tol', 'maxiter'})\n",
    "\n",
    "# Example\n",
    "blackscholes_impv(K=95, T=0.25, S=100, value=7, callput='call')"
   ]
  },
  {
   "cell_type": "code",
   "execution_count": 18,
   "metadata": {
    "ExecuteTime": {
     "end_time": "2019-12-06T03:06:08.916286Z",
     "start_time": "2019-12-06T03:06:08.909305Z"
    }
   },
   "outputs": [
    {
     "data": {
      "text/plain": [
       "8.957411337453685"
      ]
     },
     "execution_count": 18,
     "metadata": {},
     "output_type": "execute_result"
    }
   ],
   "source": [
    "def quartic_kernel(x):\n",
    "    x = np.clip(x, -1, 1)\n",
    "    return (x+1)**2*(1-x)**2\n",
    "def kernel_delta(x,h):\n",
    "    return quartic_kernel(x/h)/h\n",
    "def bandwidth(t, k = 1.5, sigmaMkt = 0.15, S0 = 100, N = 100):\n",
    "    return k*sigmaMkt*S0*np.sqrt(np.maximum(t, 0.15))*np.power(N,-0.2)\n",
    "bandwidth(1)"
   ]
  },
  {
   "cell_type": "markdown",
   "metadata": {},
   "source": [
    "### Question 2.a"
   ]
  },
  {
   "cell_type": "markdown",
   "metadata": {},
   "source": [
    "This is a version with Spline to speed up"
   ]
  },
  {
   "cell_type": "code",
   "execution_count": 19,
   "metadata": {
    "ExecuteTime": {
     "end_time": "2019-12-06T03:06:12.128735Z",
     "start_time": "2019-12-06T03:06:08.917284Z"
    },
    "scrolled": true
   },
   "outputs": [
    {
     "name": "stderr",
     "output_type": "stream",
     "text": [
      "c:\\users\\tiany\\appdata\\local\\programs\\python\\python37\\lib\\site-packages\\ipykernel_launcher.py:47: RuntimeWarning: invalid value encountered in double_scalars\n"
     ]
    }
   ],
   "source": [
    "np.random.seed(39)\n",
    "from scipy.interpolate import CubicSpline\n",
    "\n",
    "T=1\n",
    "S0=100\n",
    "sigma0=0.15\n",
    "sigmaDup=0.15\n",
    "sigmaMkt=0.15\n",
    "Y0=0\n",
    "rho=-0.5\n",
    "gamma=0.5\n",
    "kappa=1\n",
    "deltat=0.01\n",
    "npaths=10000\n",
    "npaths2=10000\n",
    "nT=100\n",
    "K_arr=np.linspace(70,140,8)\n",
    "\n",
    "S=np.ones(npaths)*S0\n",
    "Y=np.ones(npaths)*Y0\n",
    "a=sigma0*np.exp(Y)\n",
    "\n",
    "S_arr = []\n",
    "a_arr = []\n",
    "Y_arr = []\n",
    "L_arr = []\n",
    "\n",
    "S_arr.append(S[:])\n",
    "a_arr.append(a[:])\n",
    "Y_arr.append(Y[:])\n",
    "# Running phase 1: estimate leverage function\n",
    "for i in range(0,nT):\n",
    "    dW1 = np.random.randn(npaths)*np.sqrt(deltat)\n",
    "    dZ = np.random.randn(npaths)*np.sqrt(deltat)\n",
    "    dW2 = dW1*rho+dZ*np.sqrt(1 - np.square(rho))\n",
    "    if i == 0:\n",
    "        dS = sigmaDup*S*dW1\n",
    "    else:\n",
    "        dS = a*lcs(S)*S*dW1\n",
    "    S = S + dS\n",
    "    dY = - kappa*Y*deltat + gamma*dW2\n",
    "    Y = Y + dY\n",
    "    a = sigma0 * np.exp(Y)\n",
    "    def leverage_function(s,S=S,a=a,N=npaths):\n",
    "        bw = bandwidth(t = i*deltat, N=N)\n",
    "        denominator = np.sum(kernel_delta(S-s,bw))\n",
    "        expectedaSqu = np.sum(np.square(a)*kernel_delta(S-s,bw))/denominator\n",
    "        return sigmaDup/np.sqrt(expectedaSqu)\n",
    "    # vectorized version\n",
    "    leverage_vec = np.vectorize(leverage_function, excluded={'S', 'a','N'})\n",
    "    S_tmp = np.linspace(10,200,191)\n",
    "    l_tmp = leverage_vec(S_tmp)\n",
    "    l_tmp = np.nan_to_num(l_tmp)\n",
    "    lcs = CubicSpline(S_tmp, l_tmp)\n",
    "\n",
    "    S_arr.append(S[:])\n",
    "    a_arr.append(a[:])\n",
    "    Y_arr.append(Y[:])\n",
    "    L_arr.append(lcs)\n",
    "\n",
    "# Running phase 2: independent MC\n",
    "\n",
    "S=np.ones(npaths2)*S0\n",
    "Y=np.ones(npaths2)*Y0\n",
    "a=sigma0*np.exp(Y)\n",
    "\n",
    "\n",
    "for i in range(0,nT):\n",
    "    dW1 = np.random.randn(npaths2)*np.sqrt(deltat)\n",
    "    dZ = np.random.randn(npaths2)*np.sqrt(deltat)\n",
    "    dW2 = dW1*rho+dZ*np.sqrt(1 - np.square(rho))\n",
    "\n",
    "    if i == 0:\n",
    "        dS = sigmaDup*S*dW1\n",
    "    else:\n",
    "        dS = a*L_arr[i-1](S)*S*dW1\n",
    "    S = S + dS\n",
    "    dY = - kappa*Y*deltat + gamma*dW2\n",
    "    Y = Y + dY\n",
    "    a = sigma0 * np.exp(Y)\n",
    "\n",
    "\n",
    "def payoff(K, S=S):\n",
    "    S = S[np.logical_not(np.isnan(S))]\n",
    "    return np.mean(np.maximum(S-K, 0))\n",
    "payoff_vec = np.vectorize(payoff, excluded={'S'})\n",
    "impvol=blackscholes_impv(K_arr, T=1, S=100, value=payoff_vec(K_arr), callput='call')"
   ]
  },
  {
   "cell_type": "code",
   "execution_count": 20,
   "metadata": {
    "ExecuteTime": {
     "end_time": "2019-12-06T03:06:12.141659Z",
     "start_time": "2019-12-06T03:06:12.129691Z"
    }
   },
   "outputs": [
    {
     "data": {
      "text/html": [
       "<div>\n",
       "<style scoped>\n",
       "    .dataframe tbody tr th:only-of-type {\n",
       "        vertical-align: middle;\n",
       "    }\n",
       "\n",
       "    .dataframe tbody tr th {\n",
       "        vertical-align: top;\n",
       "    }\n",
       "\n",
       "    .dataframe thead th {\n",
       "        text-align: right;\n",
       "    }\n",
       "</style>\n",
       "<table border=\"1\" class=\"dataframe\">\n",
       "  <thead>\n",
       "    <tr style=\"text-align: right;\">\n",
       "      <th></th>\n",
       "      <th>0</th>\n",
       "      <th>1</th>\n",
       "      <th>2</th>\n",
       "      <th>3</th>\n",
       "      <th>4</th>\n",
       "      <th>5</th>\n",
       "      <th>6</th>\n",
       "      <th>7</th>\n",
       "    </tr>\n",
       "  </thead>\n",
       "  <tbody>\n",
       "    <tr>\n",
       "      <th>Strike</th>\n",
       "      <td>70.000000</td>\n",
       "      <td>80.000000</td>\n",
       "      <td>90.000000</td>\n",
       "      <td>100.000000</td>\n",
       "      <td>110.000000</td>\n",
       "      <td>120.000000</td>\n",
       "      <td>130.000000</td>\n",
       "      <td>140.000000</td>\n",
       "    </tr>\n",
       "    <tr>\n",
       "      <th>implied_vol</th>\n",
       "      <td>0.150923</td>\n",
       "      <td>0.149785</td>\n",
       "      <td>0.150463</td>\n",
       "      <td>0.149865</td>\n",
       "      <td>0.148911</td>\n",
       "      <td>0.148659</td>\n",
       "      <td>0.149306</td>\n",
       "      <td>0.150275</td>\n",
       "    </tr>\n",
       "  </tbody>\n",
       "</table>\n",
       "</div>"
      ],
      "text/plain": [
       "                     0          1          2           3           4  \\\n",
       "Strike       70.000000  80.000000  90.000000  100.000000  110.000000   \n",
       "implied_vol   0.150923   0.149785   0.150463    0.149865    0.148911   \n",
       "\n",
       "                      5           6           7  \n",
       "Strike       120.000000  130.000000  140.000000  \n",
       "implied_vol    0.148659    0.149306    0.150275  "
      ]
     },
     "execution_count": 20,
     "metadata": {},
     "output_type": "execute_result"
    }
   ],
   "source": [
    "import pandas as pd\n",
    "df = pd.DataFrame(list(zip(K_arr, impvol)), \n",
    "               columns =['Strike', 'implied_vol']).transpose()\n",
    "df"
   ]
  },
  {
   "cell_type": "markdown",
   "metadata": {},
   "source": [
    "Comments:\n",
    "\n",
    "Yes, I checked the implied_vols are around 15\\%."
   ]
  },
  {
   "cell_type": "markdown",
   "metadata": {},
   "source": [
    "**This is a version without Spline technique to speed up**\n",
    "\n",
    "Running time: 6.5 minutes"
   ]
  },
  {
   "cell_type": "code",
   "execution_count": 21,
   "metadata": {
    "ExecuteTime": {
     "end_time": "2019-12-06T03:13:00.846047Z",
     "start_time": "2019-12-06T03:06:12.142657Z"
    },
    "scrolled": true
   },
   "outputs": [
    {
     "name": "stdout",
     "output_type": "stream",
     "text": [
      "Running phase 1: estimate leverage function\n",
      "Running phase 2: independent MC\n"
     ]
    },
    {
     "name": "stderr",
     "output_type": "stream",
     "text": [
      "c:\\users\\tiany\\appdata\\local\\programs\\python\\python37\\lib\\site-packages\\ipykernel_launcher.py:46: RuntimeWarning: invalid value encountered in double_scalars\n"
     ]
    },
    {
     "data": {
      "text/html": [
       "<div>\n",
       "<style scoped>\n",
       "    .dataframe tbody tr th:only-of-type {\n",
       "        vertical-align: middle;\n",
       "    }\n",
       "\n",
       "    .dataframe tbody tr th {\n",
       "        vertical-align: top;\n",
       "    }\n",
       "\n",
       "    .dataframe thead th {\n",
       "        text-align: right;\n",
       "    }\n",
       "</style>\n",
       "<table border=\"1\" class=\"dataframe\">\n",
       "  <thead>\n",
       "    <tr style=\"text-align: right;\">\n",
       "      <th></th>\n",
       "      <th>0</th>\n",
       "      <th>1</th>\n",
       "      <th>2</th>\n",
       "      <th>3</th>\n",
       "      <th>4</th>\n",
       "      <th>5</th>\n",
       "      <th>6</th>\n",
       "      <th>7</th>\n",
       "    </tr>\n",
       "  </thead>\n",
       "  <tbody>\n",
       "    <tr>\n",
       "      <th>Strike</th>\n",
       "      <td>70.000000</td>\n",
       "      <td>80.000000</td>\n",
       "      <td>90.000000</td>\n",
       "      <td>100.000000</td>\n",
       "      <td>110.000000</td>\n",
       "      <td>120.000000</td>\n",
       "      <td>130.000000</td>\n",
       "      <td>140.000000</td>\n",
       "    </tr>\n",
       "    <tr>\n",
       "      <th>implied_vol</th>\n",
       "      <td>0.180977</td>\n",
       "      <td>0.159329</td>\n",
       "      <td>0.154156</td>\n",
       "      <td>0.152957</td>\n",
       "      <td>0.151947</td>\n",
       "      <td>0.150491</td>\n",
       "      <td>0.148268</td>\n",
       "      <td>0.144378</td>\n",
       "    </tr>\n",
       "  </tbody>\n",
       "</table>\n",
       "</div>"
      ],
      "text/plain": [
       "                     0          1          2           3           4  \\\n",
       "Strike       70.000000  80.000000  90.000000  100.000000  110.000000   \n",
       "implied_vol   0.180977   0.159329   0.154156    0.152957    0.151947   \n",
       "\n",
       "                      5           6           7  \n",
       "Strike       120.000000  130.000000  140.000000  \n",
       "implied_vol    0.150491    0.148268    0.144378  "
      ]
     },
     "execution_count": 21,
     "metadata": {},
     "output_type": "execute_result"
    }
   ],
   "source": [
    "np.random.seed(999)\n",
    "# running time: 6.5 minutes\n",
    "T=1\n",
    "S0=100\n",
    "sigma0=0.15\n",
    "sigmaDup=0.15\n",
    "sigmaMkt=0.15\n",
    "Y0=0\n",
    "rho=-0.5\n",
    "gamma=0.5\n",
    "kappa=1\n",
    "deltat=0.01\n",
    "npaths=10000\n",
    "npaths2=10000\n",
    "nT=100\n",
    "K_arr=np.linspace(70,140,8)\n",
    "\n",
    "S=np.ones(npaths)*S0\n",
    "Y=np.ones(npaths)*Y0\n",
    "a=sigma0*np.exp(Y)\n",
    "\n",
    "S_arr = []\n",
    "a_arr = []\n",
    "Y_arr = []\n",
    "\n",
    "S_arr.append(S[:])\n",
    "a_arr.append(a[:])\n",
    "Y_arr.append(Y[:])\n",
    "print('Running phase 1: estimate leverage function')\n",
    "for i in range(0,nT):\n",
    "    dW1 = np.random.randn(npaths)*np.sqrt(deltat)\n",
    "    dZ = np.random.randn(npaths)*np.sqrt(deltat)\n",
    "    dW2 = dW1*rho+dZ*np.sqrt(1 - np.square(rho))\n",
    "    if i == 0:\n",
    "        dS = sigmaDup*S*dW1\n",
    "    else:\n",
    "        dS = a*leverage_vec(S)*S*dW1\n",
    "    S = S + dS\n",
    "    dY = - kappa*Y*deltat + gamma*dW2\n",
    "    Y = Y + dY\n",
    "    a = sigma0 * np.exp(Y)\n",
    "    \n",
    "    def leverage_function(s,S=S,a=a,N=npaths):\n",
    "        bw = bandwidth(t = i*deltat, N=N)\n",
    "        denominator = np.sum(kernel_delta(S-s,bw))\n",
    "        expectedaSqu = np.sum(np.square(a)*kernel_delta(S-s,bw))/denominator\n",
    "        return sigmaDup/np.sqrt(expectedaSqu)\n",
    "    # vectorized version\n",
    "    leverage_vec = np.vectorize(leverage_function, excluded={'S', 'a','N'})\n",
    "\n",
    "\n",
    "    S_arr.append(S[:])\n",
    "    a_arr.append(a[:])\n",
    "    Y_arr.append(Y[:])\n",
    "    \n",
    "print('Running phase 2: independent MC')\n",
    "\n",
    "S=np.ones(npaths2)*S0\n",
    "Y=np.ones(npaths2)*Y0\n",
    "a=sigma0*np.exp(Y)\n",
    "\n",
    "\n",
    "for i in range(0,nT):\n",
    "    dW1 = np.random.randn(npaths2)*np.sqrt(deltat)\n",
    "    dZ = np.random.randn(npaths2)*np.sqrt(deltat)\n",
    "    dW2 = dW1*rho+dZ*np.sqrt(1 - np.square(rho))\n",
    "    \n",
    "    if i == 0:\n",
    "        dS = sigmaDup*S*dW1\n",
    "    else:\n",
    "        dS = a*leverage_vec2(S)*S*dW1\n",
    "    S = S + dS\n",
    "    dY = - kappa*Y*deltat + gamma*dW2\n",
    "    Y = Y + dY\n",
    "    a = sigma0 * np.exp(Y)\n",
    "\n",
    "    leverage_vec2 = np.vectorize(lambda x:leverage_function(x,S_arr[i],a_arr[i]), excluded={'S','a','N'})\n",
    "\n",
    "def payoff(K, S=S):\n",
    "    S = S[np.logical_not(np.isnan(S))]\n",
    "    return np.mean(np.maximum(S-K, 0))\n",
    "payoff_vec = np.vectorize(payoff, excluded={'S'})\n",
    "impvol=blackscholes_impv(K_arr, T=1, S=100, value=payoff_vec(K_arr), callput='call')\n",
    "import pandas as pd\n",
    "df = pd.DataFrame(list(zip(K_arr, impvol)), \n",
    "               columns =['Strike', 'implied_vol']).transpose()\n",
    "df"
   ]
  },
  {
   "cell_type": "markdown",
   "metadata": {},
   "source": [
    "Comment: Please see the above comment for the 2.a."
   ]
  },
  {
   "cell_type": "markdown",
   "metadata": {},
   "source": [
    "### Question 2.b"
   ]
  },
  {
   "cell_type": "code",
   "execution_count": 22,
   "metadata": {
    "ExecuteTime": {
     "end_time": "2019-12-06T03:13:00.859013Z",
     "start_time": "2019-12-06T03:13:00.847080Z"
    }
   },
   "outputs": [],
   "source": [
    "def Lev(gamma = 0.5,kappa = 1, rho = -0.5):\n",
    "    np.random.seed(39)\n",
    "    from scipy.interpolate import CubicSpline\n",
    "    T=1\n",
    "    S0=100\n",
    "    sigma0=0.15\n",
    "    sigmaDup=0.15\n",
    "    sigmaMkt=0.15\n",
    "    Y0=0\n",
    "#     rho=-0.5\n",
    "#     gamma=0.5\n",
    "#     kappa=1\n",
    "    deltat=0.01\n",
    "    npaths=10000\n",
    "    npaths2=10000\n",
    "    nT=100\n",
    "    K_arr=np.linspace(70,140,8)\n",
    "\n",
    "    S=np.ones(npaths)*S0\n",
    "    Y=np.ones(npaths)*Y0\n",
    "    a=sigma0*np.exp(Y)\n",
    "\n",
    "    S_arr = []\n",
    "    a_arr = []\n",
    "    Y_arr = []\n",
    "    L_arr = []\n",
    "\n",
    "    S_arr.append(S[:])\n",
    "    a_arr.append(a[:])\n",
    "    Y_arr.append(Y[:])\n",
    "    # Running phase 1: estimate leverage function\n",
    "    for i in range(0,nT):\n",
    "        dW1 = np.random.randn(npaths)*np.sqrt(deltat)\n",
    "        dZ = np.random.randn(npaths)*np.sqrt(deltat)\n",
    "        dW2 = dW1*rho+dZ*np.sqrt(1 - np.square(rho))\n",
    "        if i == 0:\n",
    "            dS = sigmaDup*S*dW1\n",
    "        else:\n",
    "            dS = a*lcs(S)*S*dW1\n",
    "        S = S + dS\n",
    "        dY = - kappa*Y*deltat + gamma*dW2\n",
    "        Y = Y + dY\n",
    "        a = sigma0 * np.exp(Y)\n",
    "        def leverage_function(s,S=S,a=a,N=npaths):\n",
    "            bw = bandwidth(t = i*deltat, N=N)\n",
    "            denominator = np.sum(kernel_delta(S-s,bw))\n",
    "            expectedaSqu = np.sum(np.square(a)*kernel_delta(S-s,bw))/denominator\n",
    "            return sigmaDup/np.sqrt(expectedaSqu)\n",
    "        # vectorized version\n",
    "        leverage_vec = np.vectorize(leverage_function, excluded={'S', 'a','N'})\n",
    "        S_tmp = np.linspace(10,200,191)\n",
    "        l_tmp = leverage_vec(S_tmp)\n",
    "        l_tmp = np.nan_to_num(l_tmp)\n",
    "        lcs = CubicSpline(S_tmp, l_tmp)\n",
    "\n",
    "        S_arr.append(S[:])\n",
    "        a_arr.append(a[:])\n",
    "        Y_arr.append(Y[:])\n",
    "        L_arr.append(lcs)\n",
    "    return L_arr[-1]"
   ]
  },
  {
   "cell_type": "code",
   "execution_count": 23,
   "metadata": {
    "ExecuteTime": {
     "end_time": "2019-12-06T03:13:13.443034Z",
     "start_time": "2019-12-06T03:13:00.862005Z"
    }
   },
   "outputs": [
    {
     "name": "stderr",
     "output_type": "stream",
     "text": [
      "c:\\users\\tiany\\appdata\\local\\programs\\python\\python37\\lib\\site-packages\\ipykernel_launcher.py:47: RuntimeWarning: invalid value encountered in double_scalars\n"
     ]
    },
    {
     "data": {
      "image/png": "[encoded data removed]",
      "text/plain": [
       "<Figure size 432x288 with 1 Axes>"
      ]
     },
     "metadata": {
      "needs_background": "light"
     },
     "output_type": "display_data"
    }
   ],
   "source": [
    "x=np.linspace(70,140,29)\n",
    "\n",
    "for i in np.linspace(0,0.75,4):\n",
    "    plt.plot(x, Lev(gamma = i,kappa =1, rho = 0)(x),label = 'gamma: '+str(i))\n",
    "plt.legend(loc=2)\n",
    "plt.show()"
   ]
  },
  {
   "cell_type": "code",
   "execution_count": 24,
   "metadata": {
    "ExecuteTime": {
     "end_time": "2019-12-06T03:13:13.451546Z",
     "start_time": "2019-12-06T03:13:13.444032Z"
    }
   },
   "outputs": [],
   "source": [
    "# Pure SV\n",
    "def SV_ImpliedVol(strike = 100, gamma = 0.5,kappa = 1, rho = -0.5):\n",
    "    np.random.seed(15)\n",
    "    T=1\n",
    "    S0=100\n",
    "    sigma0=0.15\n",
    "    sigmaDup=0.15\n",
    "    sigmaMkt=0.15\n",
    "    Y0=0\n",
    "#     rho=-0.5\n",
    "#     gamma=0.5\n",
    "#     kappa=1\n",
    "    deltat=0.01\n",
    "    npaths=10000\n",
    "    npaths2=10000\n",
    "    nT=100\n",
    "    K_arr=np.linspace(70,140,8)\n",
    "\n",
    "    S=np.ones(npaths)*S0\n",
    "    Y=np.ones(npaths)*Y0\n",
    "    a=sigma0*np.exp(Y)\n",
    "\n",
    "    # Running phase 1: estimate leverage function\n",
    "    for i in range(0,nT):\n",
    "        dW1 = np.random.randn(npaths)*np.sqrt(deltat)\n",
    "        dZ = np.random.randn(npaths)*np.sqrt(deltat)\n",
    "        dW2 = dW1*rho+dZ*np.sqrt(1 - np.square(rho))\n",
    "        if i == 0:\n",
    "            dS = sigmaDup*S*dW1\n",
    "        else:\n",
    "            dS = a*S*dW1\n",
    "        S = S + dS\n",
    "        dY = - kappa*Y*deltat + gamma*dW2\n",
    "        Y = Y + dY\n",
    "        a = sigma0 * np.exp(Y)\n",
    "    priceOption = np.mean(np.maximum(S-strike,0))\n",
    "    impvol=blackscholes_impv_scalar(K=strike, T=1, S=100, value=priceOption, callput='call')\n",
    "    return impvol\n",
    "SV_ImpliedVolVec = np.vectorize(SV_ImpliedVol, excluded={'gamma', 'kappa', 'rho'})"
   ]
  },
  {
   "cell_type": "code",
   "execution_count": 25,
   "metadata": {
    "ExecuteTime": {
     "end_time": "2019-12-06T03:13:23.177791Z",
     "start_time": "2019-12-06T03:13:13.453008Z"
    }
   },
   "outputs": [
    {
     "data": {
      "image/png": "[encoded data removed]",
      "text/plain": [
       "<Figure size 432x288 with 1 Axes>"
      ]
     },
     "metadata": {
      "needs_background": "light"
     },
     "output_type": "display_data"
    }
   ],
   "source": [
    "x=np.linspace(85,125,41)\n",
    "\n",
    "for i in np.linspace(0,0.75,4):\n",
    "    plt.plot(x, SV_ImpliedVolVec(x,gamma = i,kappa =1, rho = 0),label = 'gamma: '+str(i))\n",
    "plt.legend(loc=2)\n",
    "plt.show()"
   ]
  },
  {
   "cell_type": "markdown",
   "metadata": {},
   "source": [
    "Comment on the dependence of the shape of the leverage function on $\\gamma$ and comment on the dependence of the shape of the smile on $\\gamma$:\n",
    "\n",
    "There are smiles in the SV implied vol graph and there are frowns in the SLV leverage function graph.\n",
    "\n",
    "Reason:\n",
    "When the implied volatility increases from the market value, the leverage functions are as scale factors whose responsibility are scaling down the volatility for calibration. That's why we always have the inverse shape of implied volatility for the SV model and Leverage function for the SLV model.\n",
    "\n",
    "From the graphs, we can see the larger values for volatility of volatility not only increases the curvature of the smile but also increases the implied volatility of various strike price.\n"
   ]
  },
  {
   "cell_type": "markdown",
   "metadata": {},
   "source": [
    "### Question 2.c"
   ]
  },
  {
   "cell_type": "code",
   "execution_count": 26,
   "metadata": {
    "ExecuteTime": {
     "end_time": "2019-12-06T03:13:32.779072Z",
     "start_time": "2019-12-06T03:13:23.178792Z"
    }
   },
   "outputs": [
    {
     "name": "stderr",
     "output_type": "stream",
     "text": [
      "c:\\users\\tiany\\appdata\\local\\programs\\python\\python37\\lib\\site-packages\\ipykernel_launcher.py:47: RuntimeWarning: invalid value encountered in double_scalars\n"
     ]
    },
    {
     "data": {
      "image/png": "[encoded data removed]",
      "text/plain": [
       "<Figure size 432x288 with 1 Axes>"
      ]
     },
     "metadata": {
      "needs_background": "light"
     },
     "output_type": "display_data"
    }
   ],
   "source": [
    "x=np.linspace(70,140,29)\n",
    "\n",
    "for i in np.linspace(-0.5,0.5,3):\n",
    "    plt.plot(x, Lev(gamma = 0.5,kappa =1, rho = i)(x),label = 'rho: '+str(i))\n",
    "plt.legend(loc=2)\n",
    "plt.show()"
   ]
  },
  {
   "cell_type": "code",
   "execution_count": 27,
   "metadata": {
    "ExecuteTime": {
     "end_time": "2019-12-06T03:13:40.072384Z",
     "start_time": "2019-12-06T03:13:32.780027Z"
    }
   },
   "outputs": [
    {
     "data": {
      "image/png": "[encoded data removed]",
      "text/plain": [
       "<Figure size 432x288 with 1 Axes>"
      ]
     },
     "metadata": {
      "needs_background": "light"
     },
     "output_type": "display_data"
    }
   ],
   "source": [
    "# Pure SV\n",
    "x=np.linspace(85,125,41)\n",
    "\n",
    "for i in np.linspace(-0.5,0.5,3):\n",
    "    plt.plot(x, SV_ImpliedVolVec(x,gamma = 0.5,kappa =1, rho = i),label = 'rho: '+str(i))\n",
    "plt.legend(loc=2)\n",
    "plt.show()"
   ]
  },
  {
   "cell_type": "markdown",
   "metadata": {},
   "source": [
    "Comments:\n",
    "\n",
    "The shape in the SV implied vol graph and the shape of SLV leverage function graph are always inverse which means if one is simile the another will be frown. The reason behind this situation is disscussed in 2.b. When the implied volatility increases from the market value, the leverage functions are as scale factors whose responsibility are scaling down the volatility for calibration.\n",
    "\n",
    "When we have negative $\\rho$, the increase of the stock prices is probabily showed up with a dive down of the volatility. Also, the implied volatility is higher when we have lower strike price. In the leverage function curve from the SLV model, to caliberate the $15\\%$ market volatility, we can also see the value is larger than 1 when the strike is larger than 100 USD.\n",
    "\n",
    "When we have positive $\\rho$, the increase of the stock prices is probabily showed up with an increase of the volatility. Also, the implied volatility is higher when we have higher strike price. In the leverage function curve from the SLV model, to caliberate the $15\\%$ market volatility, we can also see the value is smaller than 1 when the strike is larger than 100 USD."
   ]
  },
  {
   "cell_type": "markdown",
   "metadata": {},
   "source": [
    "### Question 2.d"
   ]
  },
  {
   "cell_type": "code",
   "execution_count": 28,
   "metadata": {
    "ExecuteTime": {
     "end_time": "2019-12-06T03:13:49.563626Z",
     "start_time": "2019-12-06T03:13:40.073415Z"
    }
   },
   "outputs": [
    {
     "name": "stderr",
     "output_type": "stream",
     "text": [
      "c:\\users\\tiany\\appdata\\local\\programs\\python\\python37\\lib\\site-packages\\ipykernel_launcher.py:47: RuntimeWarning: invalid value encountered in double_scalars\n"
     ]
    },
    {
     "data": {
      "image/png": "[encoded data removed]",
      "text/plain": [
       "<Figure size 432x288 with 1 Axes>"
      ]
     },
     "metadata": {
      "needs_background": "light"
     },
     "output_type": "display_data"
    }
   ],
   "source": [
    "x=np.linspace(70,140,29)\n",
    "\n",
    "for i in np.logspace(-1, 1, 3):\n",
    "    plt.plot(x, Lev(gamma = 0.5,kappa =i, rho = 0)(x),label = 'rho: '+str(i))\n",
    "plt.legend(loc=2)\n",
    "plt.show()"
   ]
  },
  {
   "cell_type": "code",
   "execution_count": 29,
   "metadata": {
    "ExecuteTime": {
     "end_time": "2019-12-06T03:13:56.820648Z",
     "start_time": "2019-12-06T03:13:49.564577Z"
    }
   },
   "outputs": [
    {
     "data": {
      "image/png": "[encoded data removed]",
      "text/plain": [
       "<Figure size 432x288 with 1 Axes>"
      ]
     },
     "metadata": {
      "needs_background": "light"
     },
     "output_type": "display_data"
    }
   ],
   "source": [
    "# Pure SV\n",
    "x=np.linspace(85,125,41)\n",
    "\n",
    "for i in np.logspace(-1, 1, 3):\n",
    "    plt.plot(x, SV_ImpliedVolVec(x,gamma = 0.5,kappa =i, rho = 0),label = 'kappa: '+str(i))\n",
    "plt.legend(loc=2)\n",
    "plt.show()"
   ]
  },
  {
   "cell_type": "markdown",
   "metadata": {},
   "source": [
    "Comments:\n",
    "\n",
    "The shape in the SV implied vol graph and the shape of SLV leverage function graph are always inverse which means if one is simile the another will be frown. The reason behind this situation is disscussed in 2.b and 2.c. When the implied volatility increases from the market value, the leverage functions are as scale factors whose responsibility are scaling down the volatility for calibration. Basically speaking, their relationship is like if X = -Y, then $\\partial X/\\partial z = -\\partial Y /\\partial z$ \n",
    "\n",
    "\n",
    "When we have a lower $\\kappa$ (mean-reverting happens slowly), the volatility of the volatility process has a huge influence on the underlying asset price process which leads to a smile in the SV-implied vol and a frown in the SLV-leverage functions.\n",
    "\n",
    "When we have a higher $\\kappa$ (mean-reverting happens fastly), the volatility of the volatility process has a tiny influence on the underlying asset price process which leads to a falt shape in the SV-implied vol and in the SLV-leverage functions."
   ]
  },
  {
   "cell_type": "markdown",
   "metadata": {},
   "source": [
    "### Question 2.e"
   ]
  },
  {
   "cell_type": "code",
   "execution_count": 30,
   "metadata": {
    "ExecuteTime": {
     "end_time": "2019-12-06T03:14:00.232050Z",
     "start_time": "2019-12-06T03:13:56.821605Z"
    }
   },
   "outputs": [
    {
     "name": "stderr",
     "output_type": "stream",
     "text": [
      "c:\\users\\tiany\\appdata\\local\\programs\\python\\python37\\lib\\site-packages\\ipykernel_launcher.py:47: RuntimeWarning: invalid value encountered in double_scalars\n"
     ]
    },
    {
     "data": {
      "text/plain": [
       "0.058131553737232784"
      ]
     },
     "execution_count": 30,
     "metadata": {},
     "output_type": "execute_result"
    }
   ],
   "source": [
    "np.random.seed(39)\n",
    "from scipy.interpolate import CubicSpline\n",
    "\n",
    "T=1\n",
    "S0=100\n",
    "sigma0=0.15\n",
    "sigmaDup=0.15\n",
    "sigmaMkt=0.15\n",
    "Y0=0\n",
    "rho=-0.5\n",
    "gamma=0.5\n",
    "kappa=1\n",
    "deltat=0.01\n",
    "npaths=10000\n",
    "npaths2=10000\n",
    "nT=100\n",
    "K_arr=np.linspace(70,140,8)\n",
    "\n",
    "S=np.ones(npaths)*S0\n",
    "Y=np.ones(npaths)*Y0\n",
    "a=sigma0*np.exp(Y)\n",
    "\n",
    "S_arr = []\n",
    "a_arr = []\n",
    "Y_arr = []\n",
    "L_arr = []\n",
    "\n",
    "S_arr.append(S[:])\n",
    "a_arr.append(a[:])\n",
    "Y_arr.append(Y[:])\n",
    "# Running phase 1: estimate leverage function\n",
    "for i in range(0,nT):\n",
    "    dW1 = np.random.randn(npaths)*np.sqrt(deltat)\n",
    "    dZ = np.random.randn(npaths)*np.sqrt(deltat)\n",
    "    dW2 = dW1*rho+dZ*np.sqrt(1 - np.square(rho))\n",
    "    if i == 0:\n",
    "        dS = sigmaDup*S*dW1\n",
    "    else:\n",
    "        dS = a*lcs(S)*S*dW1\n",
    "    S = S + dS\n",
    "    dY = - kappa*Y*deltat + gamma*dW2\n",
    "    Y = Y + dY\n",
    "    a = sigma0 * np.exp(Y)\n",
    "    def leverage_function(s,S=S,a=a,N=npaths):\n",
    "        bw = bandwidth(t = i*deltat, N=N)\n",
    "        denominator = np.sum(kernel_delta(S-s,bw))\n",
    "        expectedaSqu = np.sum(np.square(a)*kernel_delta(S-s,bw))/denominator\n",
    "        return sigmaDup/np.sqrt(expectedaSqu)\n",
    "    # vectorized version\n",
    "    leverage_vec = np.vectorize(leverage_function, excluded={'S', 'a','N'})\n",
    "    S_tmp = np.linspace(10,200,191)\n",
    "    l_tmp = leverage_vec(S_tmp)\n",
    "    l_tmp = np.nan_to_num(l_tmp)\n",
    "    lcs = CubicSpline(S_tmp, l_tmp)\n",
    "\n",
    "    S_arr.append(S[:])\n",
    "    a_arr.append(a[:])\n",
    "    Y_arr.append(Y[:])\n",
    "    L_arr.append(lcs)\n",
    "\n",
    "# Running phase 2: independent MC\n",
    "\n",
    "S=np.ones(npaths2)*S0\n",
    "Y=np.ones(npaths2)*Y0\n",
    "a=sigma0*np.exp(Y)\n",
    "\n",
    "\n",
    "for i in range(0,nT):\n",
    "    dW1 = np.random.randn(npaths2)*np.sqrt(deltat)\n",
    "    dZ = np.random.randn(npaths2)*np.sqrt(deltat)\n",
    "    dW2 = dW1*rho+dZ*np.sqrt(1 - np.square(rho))\n",
    "\n",
    "    if i == 0:\n",
    "        dS = sigmaDup*S*dW1\n",
    "    else:\n",
    "        dS = a*L_arr[i-1](S)*S*dW1\n",
    "    S = S + dS\n",
    "    dY = - kappa*Y*deltat + gamma*dW2\n",
    "    Y = Y + dY\n",
    "    a = sigma0 * np.exp(Y)\n",
    "    if i == nT *(T - (3/12)) - 1:\n",
    "        S_prev = S[:]\n",
    "\n",
    "\n",
    "def payoff(S=S, S_prev = S_prev):\n",
    "    Snanidx = np.where(np.isnan(S))[0]\n",
    "    S_prevnanidx = np.where(np.isnan(S_prev))[0]\n",
    "    unionidx = np.union1d(Snanidx, S_prevnanidx)\n",
    "    S = S[~np.in1d(range(len(S)),unionidx)]\n",
    "    S_prev = S_prev[~np.in1d(range(len(S_prev)),unionidx)]\n",
    "    return np.mean(np.abs(S/S_prev-1))\n",
    "payoff()"
   ]
  },
  {
   "cell_type": "code",
   "execution_count": 31,
   "metadata": {
    "ExecuteTime": {
     "end_time": "2019-12-06T03:14:04.180599Z",
     "start_time": "2019-12-06T03:14:00.233054Z"
    }
   },
   "outputs": [
    {
     "data": {
      "text/plain": [
       "0.06099663187523436"
      ]
     },
     "execution_count": 31,
     "metadata": {},
     "output_type": "execute_result"
    }
   ],
   "source": [
    "def BS_price(S0 = 100, volBS = 0.15, T = 1, nT = 100, N = int(1e6)):\n",
    "    S = S0*np.ones(N)\n",
    "    for i in range(nT):\n",
    "        if i == nT *(T - (3/12)) - 1:\n",
    "            S_prev = S[:]\n",
    "        S = S + S*volBS*np.random.randn(N)*np.sqrt(T/nT)\n",
    "    return np.mean(np.abs(S/S_prev - 1))\n",
    "BS_price()"
   ]
  },
  {
   "cell_type": "markdown",
   "metadata": {},
   "source": [
    "Comment: \n",
    "\n",
    "SLV model price is 0.058 USD and the price of BS model is 0.061 USD. The price of BS model and SLV model are pretty close. The SLV price is a little bit lower.\n",
    "\n",
    "In the BS model, the constant volatility is competible to the forward-starting straddle. However, for other products, because of the unknown future volatility and other inner driven factors of the volatility, the constant volatility is not a good chioce.\n",
    "\n",
    "For the SLV model, it useful because it can caliberate and capture the market volatility. It is calibrated based on the price of the stock strikes and due times, and therefore includes the term structure of implied volatility and the randomness of volatility. In this situation, in a fixed-term structure, the leverage function is always less than 1 which will likely resulting in the lowest price."
   ]
  },
  {
   "cell_type": "code",
   "execution_count": null,
   "metadata": {},
   "outputs": [],
   "source": []
  }
 ],
 "metadata": {
  "anaconda-cloud": {},
  "kernelspec": {
   "display_name": "Python 3",
   "language": "python",
   "name": "python3"
  },
  "language_info": {
   "codemirror_mode": {
    "name": "ipython",
    "version": 3
   },
   "file_extension": ".py",
   "mimetype": "text/x-python",
   "name": "python",
   "nbconvert_exporter": "python",
   "pygments_lexer": "ipython3",
   "version": "3.7.3"
  }
 },
 "nbformat": 4,
 "nbformat_minor": 1
}
